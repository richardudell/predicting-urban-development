{
 "cells": [
  {
   "cell_type": "markdown",
   "metadata": {},
   "source": [
    "# Blog: Leveraging the Landsat Time Series to Understand Development Surrounding Denver International Airport (DIA)\n",
    "By: Richard Udell (July 2020)\n",
    "\n",
    "# Introduction\n",
    "I sat in a 25 square foot room in Kansas for 2,500 hours and was paid for it!  Well, it wasn’t actually Kansas, it was the plains 25 miles east of Denver, Colorado.  But if you’ve been there, you would think the landscape looks pretty similar (save the awesome view of the Rockies!).  Out there construction is happening at a dizzying rate as the Denver Metro area is replacing miles and miles of plains with homes, highways, and shopping centers.  My job for the past year was to help make sure that the millions of tonnes of Earth beneath is strong enough to support the rapidly growing city.  That’s how I found myself sitting inside the 25 square foot cab of a work truck for hours on end.  I was watching the Earth be transformed from plains to city and I started to get curious about how this change was happening at a regional level.\n",
    "\n",
    "# Relevance\n",
    "When the Denver International Airport (DIA) finished construction 25 years ago it stood isolated in the plains, 30 miles from the City of Denver.  However, as I have observed first-hand in the past year, DIA is no longer so far from the city.  In this project, I aim to understand the trends in urban development surrounding DIA.  \n",
    "\n",
    "# Tools\n",
    "This workflow is completed using the Google Earth Engine Python API, a powerful tool that integrates [\"the most advanced cloud-based geospatial processing platform in the world\"](https://developers.google.com/earth-engine#background) with the Python programming language - where there are many useful open-source packages for data analysis.\n",
    "\n",
    "\n",
    "# Region of Interest\n",
    "![Region of Interest](images/ROI_screenshot.png)\n",
    "*Caption: The region of interest (ROI) is a 10 mile radius around the southwest corner of DIA.*\n",
    "\n",
    "# Data\n",
    "[Landsat 5](https://www.usgs.gov/land-resources/nli/landsat/landsat-5?qt-science_support_page_related_con=0#qt-science_support_page_related_con) has been collecting 30m resolution satellite imagery of the whole Earth since 1984 - over a decade before the completion of DIA in 1995.  Unfortunately, Landsat 5 was decommissioned in 2012; therefore, this analysis measures trends from 1995 to 2012.  Despite this limited temporal range, there are still 938 Landsat scenes during that time that cover the ROI.  And as you can see upon close inspection of the plot below, many changes occurred on the landscape surrounding DIA during this time.\n",
    "\n",
    "Use the floating box on the right-hand side to toggle the 1995 and 2011 RGB (Red Green Blue) layers to compare the differences in the landscape.  Feel free to zoom and pan to get a closer look.  \n",
    "\n",
    "*Note: 2011 is used in this comparison because there was a censor malfunction on Landsat5 that prevented the collection of satellite imagery in the first half of 2012.* "
   ]
  },
  {
   "cell_type": "code",
   "execution_count": 1,
   "metadata": {
    "tags": [
     "hide"
    ]
   },
   "outputs": [],
   "source": [
    "# Import necessary packages\n",
    "import os\n",
    "import numpy as np\n",
    "import matplotlib.pyplot as plt\n",
    "\n",
    "import rasterio as rio\n",
    "import earthpy as et\n",
    "\n",
    "import ee\n",
    "import geemap"
   ]
  },
  {
   "cell_type": "code",
   "execution_count": 2,
   "metadata": {
    "tags": [
     "hide"
    ]
   },
   "outputs": [],
   "source": [
    "# Initiate first interactive map\n",
    "Map1 = geemap.Map(center=(39.791424, -104.809968), zoom=10)\n",
    "Map1.add_basemap('HYBRID')  # Add Google Map"
   ]
  },
  {
   "cell_type": "code",
   "execution_count": 3,
   "metadata": {
    "tags": [
     "hide"
    ]
   },
   "outputs": [],
   "source": [
    "# Set ROI as 10 mile (16,093 meters) radius around the intersection of\n",
    "# Pena Blvd and E-470 (about the SW corner of the airport)\n",
    "roi = ee.Geometry.Point([-104.746984, 39.834241]).buffer(16093)\n",
    "\n",
    "# Add ROI to map\n",
    "Map1.addLayer(roi, {}, 'ROI', opacity=0.5)"
   ]
  },
  {
   "cell_type": "code",
   "execution_count": 4,
   "metadata": {
    "tags": [
     "hide"
    ]
   },
   "outputs": [],
   "source": [
    "# Function to get cloud free summer composite for given year\n",
    "def pre_processL5(year, ROI):\n",
    "    \"\"\"Filters the Landsat 5 ImageCollection to the given year and ROI and returns\n",
    "    a cloud free clipped composite ee.Image object.\n",
    "    \n",
    "    Parameters\n",
    "    ----------\n",
    "    year : int\n",
    "        Year to be used to filter Landsat 5 ImageCollection.\n",
    "        \n",
    "    ROI : ee.Geometry\n",
    "        Any ee.Geometry object.\n",
    "    \n",
    "\n",
    "    Returns\n",
    "    ------\n",
    "    composite : ee.Image\n",
    "        A 7 band ee.Image object derived from Landsat 5 that is filtered to the\n",
    "        given year and clipped to the given ROI.\n",
    "    \n",
    "    \"\"\"\n",
    "\n",
    "    # Get raw Landsat5 data input for simple composite\n",
    "    landsatCollection = ee.ImageCollection('LANDSAT/LT05/C01/T1')\n",
    "\n",
    "    # Generate date strings for .filterDate()\n",
    "    d1, d2 = str(year)+'-01-01', str(year)+'-12-31'  # Whole year\n",
    "    # IMPORTANT NOTE: Landsat 5 for 2012 should only be available after June\n",
    "\n",
    "    # Filter Landsat8 collection by date and by ROI\n",
    "    collection = landsatCollection.filterDate(d1, d2)\n",
    "\n",
    "    # Create cloud-free composite with default params and clip to ROI\n",
    "    composite = ee.Algorithms.Landsat.simpleComposite(collection)\n",
    "\n",
    "    return composite.clip(ROI)\n",
    "\n",
    "\n",
    "# Landsat 5 cloud-free composite clipped to ROI (1995-2011)\n",
    "imagesL5_dict = {}\n",
    "for i in range(1995, 2012):\n",
    "    imagesL5_dict[str(i)] = pre_processL5(year=i, ROI=roi)"
   ]
  },
  {
   "cell_type": "markdown",
   "metadata": {},
   "source": [
    "#### Plot 1 Title: RGB Comparison of the ROI from 1995 to 2011"
   ]
  },
  {
   "cell_type": "code",
   "execution_count": 5,
   "metadata": {
    "scrolled": false,
    "tags": [
     "hide"
    ]
   },
   "outputs": [
    {
     "data": {
      "application/vnd.jupyter.widget-view+json": {
       "model_id": "4847de3a0057416eb1fc023ccf2f4c75",
       "version_major": 2,
       "version_minor": 0
      },
      "text/plain": [
       "Map(center=[39.835136, -104.777782], controls=(WidgetControl(options=['position'], widget=HBox(children=(Toggl…"
      ]
     },
     "metadata": {},
     "output_type": "display_data"
    }
   ],
   "source": [
    "# Visualize images in RGB\n",
    "visParams = {'bands': ['B3', 'B2', 'B1'], 'gain': [1.4, 1.4, 1.1]}\n",
    "\n",
    "# Add L5 - 1995 RGB\n",
    "Map1.addLayer(imagesL5_dict['1995'], visParams, '1995_RGB')\n",
    "\n",
    "# Add L5 - 2011 RGB (2012 has an error)\n",
    "Map1.addLayer(imagesL5_dict['2011'], visParams, '2011_RGB')\n",
    "\n",
    "# Visualize the interactive map just above the airport\n",
    "Map1.setCenter(-104.777782, 39.835136, 11)\n",
    "Map1"
   ]
  },
  {
   "cell_type": "markdown",
   "metadata": {},
   "source": [
    "**Plot 1 Caption:** There are some striking differences between the 1995 and 2011 RGB images.  The most obvious is the development of the old Stapleton airport - in 2011 is under development on its way to becoming the Stapleton neighborhood of Denver.  Additionally, a major change that occurred over the 16 years in the comparison is the development of Green Valley Range (first development southwest of DIA).\n",
    "\n",
    "After viewing the RGB comparison plot, it is clear that there are changes in urban land cover surrounding DIA.  In the methods section I discuss how I went about measuring these changes.\n",
    "# Methods\n",
    "Spectral unmixing was used to determine the fraction of each pixel in the entire Landsat 5 collection (1995-2012) that is urban.  Then, the trend in urban over time was be measured by finding a linear line that best fits the change in urban fraction over time.  \n",
    "\n",
    "Spectral unmixing can seem like magic, so I will attempt to explain (roughly) how it works.  Spectral unmixing can theoretically determine whether the land at each pixel is one of three categories: urban, vegetation, or water.  Each pixel in a Landsat image has a number that basically tells you how bright that small piece of Earth is.  Spectral unmixing considers how bright a piece of Earth should be if it is urban, vegetation, or water and calculates which category each pixel fits into.  However, it’s a bit more complicated - spectral unmixing assigns a percentage of each category to each pixel.  For example: if you examine a Landsat pixel in a city park next to a pond, there could be 50% urban, 25% vegetation and 25% water in the 30m x 30m pixel.\n",
    "\n"
   ]
  },
  {
   "cell_type": "code",
   "execution_count": 6,
   "metadata": {
    "tags": [
     "hide"
    ]
   },
   "outputs": [],
   "source": [
    "# Define function to unmix Landsat 5 ee.Image object and add a timestamp\n",
    "def unmix_L5(image_L5):\n",
    "    \"\"\"Unmix each pixel with the given endmembers, by computing the pseudo-inverse\n",
    "    and multiplying it through each pixel. Returns an image of doubles with the same\n",
    "    number of bands as endmembers. (Description from GEE docs).\n",
    "\n",
    "    Parameters\n",
    "    ----------\n",
    "    image_L5 : ee.Image\n",
    "        Any ee.Image object from Landsat 5 (must include at least the first 7 bands).\n",
    "\n",
    "    Returns\n",
    "    ------\n",
    "    unmixed_image : ee.Image\n",
    "        A 4-band ee.Image object.  Three bands, ('urban', 'veg', and 'water') are the\n",
    "        per-pixel fraction that the .unmix() method determined that correspond with\n",
    "        the three given endmember values.  The final band, 'system:time_start' is\n",
    "        the time metadata associated with that image.\n",
    "    \"\"\"\n",
    "    # Select bands 1-7\n",
    "    bands = ['B1', 'B2', 'B3', 'B4', 'B5', 'B6', 'B7']\n",
    "    image = image_L5.select(bands)\n",
    "\n",
    "    # Endmembers taken from GEE unmix() example script found here:\n",
    "    # https://developers.google.com/earth-engine/image_transforms\n",
    "    urban = [88, 42, 48, 38, 86, 115, 59]  # band_0\n",
    "    veg = [50, 21, 20, 35, 50, 110, 23]  # band_1\n",
    "    water = [51, 20, 14, 9, 7, 116, 4]  # band_2\n",
    "    \n",
    "    # Run the GEE unmix() method with to get per-pixel fractions that are non-negative\n",
    "    # and sum-to-one\n",
    "    unmixed_image = image.unmix([urban, veg, water], True, True).rename([\n",
    "        'urban', 'veg', 'water'])\n",
    "    \n",
    "    # Add time band and return image - time stamp is divided by large number to avoid \n",
    "    # extra high (or low) scale values.\n",
    "    return unmixed_image.addBands(image.metadata('system:time_start').divide(1e13))"
   ]
  },
  {
   "cell_type": "code",
   "execution_count": 7,
   "metadata": {
    "tags": [
     "hide"
    ]
   },
   "outputs": [],
   "source": [
    "# Filter Landsat 5 ImageCollection and map the unmix function over the collection\n",
    "collection = ee.ImageCollection('LANDSAT/LT05/C01/T1').filterDate(\n",
    "    ee.Date('1995-01-01'), ee.Date('2011-12-31')).filterBounds(roi).map(unmix_L5)"
   ]
  },
  {
   "cell_type": "code",
   "execution_count": 8,
   "metadata": {
    "tags": [
     "hide"
    ]
   },
   "outputs": [],
   "source": [
    "# Reduce the collection with the linear fit reducer - independent variable is\n",
    "# followed by the dependent variable\n",
    "linearFit = collection.select(\n",
    "    ['system:time_start', 'urban']).reduce(ee.Reducer.linearFit())\n",
    "\n",
    "# Clip the linearFit to the roi\n",
    "clipped_linearFit = linearFit.clip(roi)"
   ]
  },
  {
   "cell_type": "markdown",
   "metadata": {},
   "source": [
    "#### Plot 2 Title: Linear Fit, Urban Trend Map from 1995 to 2011"
   ]
  },
  {
   "cell_type": "code",
   "execution_count": 9,
   "metadata": {
    "tags": [
     "hide"
    ]
   },
   "outputs": [
    {
     "data": {
      "application/vnd.jupyter.widget-view+json": {
       "model_id": "3a91e488d38e489fb10ffc9f06c09ad1",
       "version_major": 2,
       "version_minor": 0
      },
      "text/plain": [
       "Map(center=[39.791424, -104.809968], controls=(WidgetControl(options=['position'], widget=HBox(children=(Toggl…"
      ]
     },
     "metadata": {},
     "output_type": "display_data"
    }
   ],
   "source": [
    "# Initiate second interactive map\n",
    "Map2 = geemap.Map(center=(39.791424, -104.809968), zoom=10)\n",
    "Map2.add_basemap('HYBRID')  # Add Google Map\n",
    "\n",
    "# Display the results\n",
    "Map2.addLayer(clipped_linearFit,\n",
    "             {'min': 0, 'max': [-0.9, 8e-5, 1], 'bands': ['scale', 'offset', 'scale']}, 'Linear Fit')\n",
    "\n",
    "# Add legend to map\n",
    "legend_keys = ['High Positive Urban Trend', 'Positive Urban Trend',\n",
    "               'Nearly No Urban Trend', 'Negative Urban Trend']\n",
    "legend_colors = ['#0000FF', '#01FFFF', '#00FF1F', '#FFFF02']\n",
    "\n",
    "Map2.add_legend(legend_keys=legend_keys,\n",
    "               legend_colors=legend_colors, position='bottomleft')\n",
    "\n",
    "Map2"
   ]
  },
  {
   "cell_type": "markdown",
   "metadata": {},
   "source": [
    "**Plot 2 Caption:** The majority of the plot appears to have a positive urban trend - however this mostly corresponds with rural areas that do not have much development (e.g. east of DIA, the Rocky Mountain Arsenal National Wildlife Refuge).  This makes me wonder if the `scale` band for the Linear Fit output should be interpretted in the inverse - meaning a neative `scale` actually corresponds to a positive urban trend.  However, it is not clear if this is the case.  Curiously, the mathematical interpreation of the results below suggest that yellow corresponds to a positive urban trend (the opposite of what is represented by the `scale` values interpreted on this plot)."
   ]
  },
  {
   "cell_type": "code",
   "execution_count": 10,
   "metadata": {
    "tags": [
     "hide"
    ]
   },
   "outputs": [
    {
     "name": "stdout",
     "output_type": "stream",
     "text": [
      "Generating URL ...\n",
      "Downloading data from https://earthengine.googleapis.com/v1alpha/projects/earthengine-legacy/thumbnails/923ea900b09ffaa2a0d7b2a0265c36f9-b711112beea28c9fbbda62a526f62246:getPixels\n",
      "Please wait ...\n",
      "Data downloaded to /Users/richardudell/Downloads\n"
     ]
    }
   ],
   "source": [
    "out_dir = os.path.join(et.io.HOME, 'Downloads')\n",
    "filename = os.path.join(out_dir, 'linearFit.tif')\n",
    "\n",
    "\n",
    "# Exports two files - one file per band ('filename.bandname.tif')\n",
    "geemap.ee_export_image(clipped_linearFit, filename=filename, scale=90, region=roi, file_per_band=True)"
   ]
  },
  {
   "cell_type": "code",
   "execution_count": 11,
   "metadata": {
    "scrolled": true,
    "tags": [
     "hide"
    ]
   },
   "outputs": [],
   "source": [
    "# Confirm that linearFit.scale.tif appears in your Downloads folder\n",
    "scale_path = os.path.join(et.io.HOME, 'Downloads', 'linearFit.scale.tif')\n",
    "\n",
    "# Import scale (slope values for each pixel in the ROI)\n",
    "with rio.open(scale_path) as src:\n",
    "    scale_tif = src.read()"
   ]
  },
  {
   "cell_type": "code",
   "execution_count": 12,
   "metadata": {
    "tags": [
     "hide"
    ]
   },
   "outputs": [
    {
     "name": "stdout",
     "output_type": "stream",
     "text": [
      "Number of pixels above zero:  21039 \n",
      "Below zero:  145896 \n",
      "At zero:  0\n"
     ]
    }
   ],
   "source": [
    "# Calculate the total number of pixels in the dataset\n",
    "total = scale_tif < np.inf\n",
    "\n",
    "# Interpret the slope values as either trending positive or negative (above\n",
    "# or below zero)\n",
    "above = scale_tif < 0\n",
    "below = scale_tif > 0\n",
    "\n",
    "# Confirm that there are no values at zero\n",
    "at = scale_tif == 0\n",
    "\n",
    "print('Number of pixels above zero: ', above.sum(),\n",
    "      '\\nBelow zero: ', below.sum(), \n",
    "      '\\nAt zero: ', at.sum())"
   ]
  },
  {
   "cell_type": "code",
   "execution_count": 13,
   "metadata": {
    "tags": [
     "hide"
    ]
   },
   "outputs": [],
   "source": [
    "# Calculate the total area of the ROI\n",
    "area_per_pixel = clipped_linearFit.pixelArea()\n",
    "total_area_roi = area_per_pixel.reduceRegion(ee.Reducer.sum(), roi, 30)\n",
    "total_area_roi = total_area_roi.getInfo()['area']"
   ]
  },
  {
   "cell_type": "code",
   "execution_count": 14,
   "metadata": {
    "tags": [
     "hide"
    ]
   },
   "outputs": [
    {
     "name": "stdout",
     "output_type": "stream",
     "text": [
      "0.13 % of the pixels in the ROI are trending towards urban.\n",
      "This is the same as:  104614003  square meters, or\n",
      "40.39150716  square miles.\n"
     ]
    }
   ],
   "source": [
    "# Calculate the percent of pixels trending towards urban\n",
    "trending_urban_perc = round(above.sum()/total.sum(), 2)\n",
    "\n",
    "print(trending_urban_perc, '% of the pixels in the ROI are trending towards urban.')\n",
    "print('This is the same as: ', int(trending_urban_perc * total_area_roi), ' square meters, or', )\n",
    "print(round((trending_urban_perc * total_area_roi)/2.59e6, 8), ' square miles.')"
   ]
  },
  {
   "cell_type": "markdown",
   "metadata": {},
   "source": [
    "\n",
    "\n",
    "# What Did I Find?\n",
    "Of the 10 mile radius surrounding Denver International Airport, 13% of the land area has a positive urban trend.  The area land that was found to have a positive urban trend is spreadout northwest of the airport and directly north of the Rocky Mountain Arsenal National Wildlife Refuge, as well as directly south and southwest of the airport along Interstate 70.  \n",
    "\n",
    "# Why Does It Matter? \n",
    "significance to general audience - why should they care about the finding?\n",
    "At 53 sq. miles, DIA is the second largest airport landowner in the world and serves over 58 million passengers annually.  DIA is the largest economic driver in the state, it fuels 26 billion (USD) in annual economic benefit.\n",
    "([sasaki.com](https://www.sasaki.com/projects/denver-international-airport-strategic-development-plan/))  It is clear that the airport has a large impact on Denver Metro area, as well as the entire state of Colorado.  From this analysis, we now further understand the impact DIA has had on the development of urban land cover most immediately surrounding the airport.\n",
    "\n",
    "\n",
    "** INCLUDE TWO IMAGES I MADE THAT EXPLAIN SPECTRAL UNMIXING **\n",
    "\n",
    "# Final Discussion \n",
    "\n",
    "i.e. other implications or potential applications of findings, future work\n",
    "Although it is exciting to quantify the impact that DIA has had on the land cover in the area surrounding the airport, this analysis falls short of providing relevant data.  Future work will include the addition of satellite imagery from Landsat 8 - which has been in operation since 2013.  This will likely require a reconsideration of the endmembers used in the spectral unmixing analysis.  This process is known as endmember extraction and, once learned, would prove to be an excellent skill to have under my belt because of its [versatility and powerful capabilities in remote sensing](https://en.wikipedia.org/wiki/Hyperspectral_imaging).  \n",
    "\n",
    "# Interested in a Tutorial?\n",
    "Visit my [GitHub Repository](https://github.com/richardudell/predicting-urban-development) for a complete tutorial on how to do this analysis!\n"
   ]
  }
 ],
 "metadata": {
  "celltoolbar": "Tags",
  "kernelspec": {
   "display_name": "Python 3",
   "language": "python",
   "name": "python3"
  },
  "language_info": {
   "codemirror_mode": {
    "name": "ipython",
    "version": 3
   },
   "file_extension": ".py",
   "mimetype": "text/x-python",
   "name": "python",
   "nbconvert_exporter": "python",
   "pygments_lexer": "ipython3",
   "version": "3.6.10"
  }
 },
 "nbformat": 4,
 "nbformat_minor": 4
}
