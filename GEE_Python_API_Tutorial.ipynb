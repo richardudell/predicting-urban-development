{
 "cells": [
  {
   "cell_type": "markdown",
   "metadata": {},
   "source": [
    "# Google Earth Engine Python (GEE) API Tutorial\n",
    "By: Richard Udell\n",
    "\n",
    "The tutorial is presented as a walk-through of an analysis: **Identifying Urban Trend Surrounding Denver International Airport (DIA) From 1995 to 2012**.  \n",
    "# Goal\n",
    "The goal of this notebook is to introduce new Python users to a seemingly complex combination of tools - Google Earth Engine, Jupyter Notebook, and the Python programming language.  \n",
    "\n",
    "#### What has kept me motivated throughout the development of this tutorial?\n",
    "I am a new Python user and an even newer GEE user and I have overcome **some** of the challenges of using the Google Earth Engine Python API in Jupyter Notebooks and I want to make it easier for the next user.\n",
    "\n",
    "# Relevance\n",
    "As the name implies, the Google Earth Engine Python API combines two tools: Python and Google Earth Engine.  Google Earth Engine has an [easy-to-use online code editor](https://code.earthengine.google.com) that includes the documentation and a [GEE guide](https://developers.google.com/earth-engine#background) that is very helpful for new-users.  \n",
    "\n",
    "However, there are two problems for users of the GEE Python API:\n",
    "1. The GEE documentation and the GEE guide are in JavaScript\n",
    "2. There are few resources for users that choose to run the GEE Python API on their own Python environment inside Jupyter Notebooks\n",
    "\n",
    "#### Why to use the Google Earth Engine Python API?\n",
    "The Python programming language is [very popular for good reasons](https://www.python.org/about/) and has an active open-source community that actively maintains many powerful packages for data-analysis.\n",
    "\n",
    "Google Earth Engine is a very powerful tool for two reasons: \n",
    "1. GEE provides easy access to very large spatial datasets from organizations all over the world via the [Earth Engine Data Catalog](https://developers.google.com/earth-engine/datasets) without ever having to store them locally on your computer - many of these spatial datasets are much larger than your computers hard drive.  \n",
    "2. GEE provides access to a much more powerful computer.  Some of the calculations that you will perform in GEE would take days to do on your computer’s processor, but GEE servers will do the calculations for you and return the results in seconds.\n",
    "\n",
    "\n",
    "The combination of Google Earth Engine and Python can increase the efficiency, reach, and speed of very large-scale (I'm talking pedabytes!) spatial data-analysis.  "
   ]
  },
  {
   "cell_type": "markdown",
   "metadata": {},
   "source": [
    "# Overview of Datasets\n",
    "To keep the workflow simple we will work with a single dataset: [Landsat 5](https://www.usgs.gov/land-resources/nli/landsat/landsat-5?qt-science_support_page_related_con=0#qt-science_support_page_related_con).  Landsat 5 was in operation from 1984 to 2012.  It collected 30m resolution data from the entire Earth at a period of 16 days."
   ]
  },
  {
   "cell_type": "markdown",
   "metadata": {},
   "source": [
    "# Overview of Approaches/Methods\n",
    "The tutorial covers the steps to **make a linear fit model that identifies the trend in urban land cover surrounding the Denver International Airport (DIA) from 1995 to 2012 with the Google Earth Engine Python API**.  However, the tutorial completes once the linear fit model has been visualized on the map.  The methods used to interepret of the results are not included in the tutorial.  \n",
    "\n",
    "The results are interpretted by exporting the linear fit model from GEE to a .TIF file then re-importing the .TIF file to be analyzed with Python tools such as numpy."
   ]
  },
  {
   "cell_type": "markdown",
   "metadata": {},
   "source": [
    "# Google Earth Engine Python API Tutorial: \n",
    "### Identifying Urban Trend Surrounding Denver International Airport (DIA)\n",
    "By: Richard Udell"
   ]
  },
  {
   "cell_type": "markdown",
   "metadata": {},
   "source": [
    "# Table of Contents\n",
    "    Setup\n",
    "    Introduction\n",
    "1. The Interactive Map\n",
    "2. Image Collections (`ee.ImageCollection` Objects)\n",
    "3. Overcoming JavaScript Documentation\n",
    "4. Linear Fit Workflow Walk Through"
   ]
  },
  {
   "cell_type": "markdown",
   "metadata": {},
   "source": [
    "# Setup\n",
    "\n",
    "Be sure you have [applied for Earth Engine](https://signup.earthengine.google.com/) and have [geemap installed](https://github.com/giswqs/geemap#installation)  on your computer."
   ]
  },
  {
   "cell_type": "markdown",
   "metadata": {},
   "source": [
    "# Introduction\n",
    "In this tutorial we will make a linear fit model that identifies the trend in urban land cover surrounding the Denver International Airport (DIA).\n",
    "\n",
    "It is assumed that you have completed introductory tutorials in Python and have previously used Jupyter Notebooks.\n",
    "\n",
    "##### Important note:  be sure to restart and clear the kernel before you begin the tutorial.  Run the code cells as you progress."
   ]
  },
  {
   "cell_type": "markdown",
   "metadata": {},
   "source": [
    "# Tutorial Part 1: The Interactive Map\n",
    "1. Import Necessary Packages\n",
    "2. Initiate the interactive map\n",
    "3. Define Region of Interest\n",
    "    * Preset ROI\n",
    "    * Draw Your Own ROI\n",
    "4. Understanding `ee` Objects\n",
    "    * Visualizing `ee` Objects\n",
    "    * Examining `ee` Objects\n",
    "5. Exercise: Save the Coordinates of `roi`"
   ]
  },
  {
   "cell_type": "markdown",
   "metadata": {},
   "source": [
    "## 1.1 Import Necessary Packages\n",
    "**Without geemap we would not be able to visualize our code.**  Without geemap working with the Google Earth Engine Python API would be very difficult.  "
   ]
  },
  {
   "cell_type": "code",
   "execution_count": 1,
   "metadata": {
    "tags": [
     "hide"
    ]
   },
   "outputs": [],
   "source": [
    "# Import necessary packages\n",
    "import os\n",
    "import numpy as np\n",
    "import matplotlib.pyplot as plt\n",
    "\n",
    "import rasterio as rio\n",
    "import earthpy as et\n",
    "\n",
    "import ee\n",
    "import geemap"
   ]
  },
  {
   "cell_type": "markdown",
   "metadata": {},
   "source": [
    "## 1.2 Initiate the Interactive Map"
   ]
  },
  {
   "cell_type": "code",
   "execution_count": 2,
   "metadata": {
    "tags": [
     "hide"
    ]
   },
   "outputs": [],
   "source": [
    "# Initiate interactive map with the name Map, default basemap is HYBRID\n",
    "Map = geemap.Map(center=(39.791424, -104.809968), zoom=11)\n",
    "\n",
    "# To see a list of basemaps to choose from\n",
    "# geemap.ee_basemaps.keys()\n",
    "\n",
    "# Change the basemap if you'd like\n",
    "Map.add_basemap('HYBRID')  "
   ]
  },
  {
   "cell_type": "markdown",
   "metadata": {},
   "source": [
    "Now that you have initiated the interactive map and named it `Map`, you can view it by calling `Map`.\n",
    "\n",
    "Note: The Map object will automatically be updated whenever you add new layers.  You do not need to call the Map again to update it (even if the new layer was added in a cell that was run later than the `Map` was called)."
   ]
  },
  {
   "cell_type": "code",
   "execution_count": 3,
   "metadata": {
    "tags": [
     "hide"
    ]
   },
   "outputs": [
    {
     "data": {
      "application/vnd.jupyter.widget-view+json": {
       "model_id": "cfba697e43a744ad8b1172dbb2a36143",
       "version_major": 2,
       "version_minor": 0
      },
      "text/plain": [
       "Map(center=[39.791424, -104.809968], controls=(WidgetControl(options=['position'], widget=HBox(children=(Toggl…"
      ]
     },
     "metadata": {},
     "output_type": "display_data"
    }
   ],
   "source": [
    "# View the interactive map by calling the Map object\n",
    "Map"
   ]
  },
  {
   "cell_type": "markdown",
   "metadata": {},
   "source": [
    "## 1.3 Define Region of Intersest (ROI)\n",
    "The first step in our Linear Fit workflow is to define the region of interest (ROI).  \n",
    "\n",
    "This can be done by defining the radius of a cirlce around a point by creating an `ee.Geometry.Point` object and selecting a buffer (in meters).  This is shown in option 1 below.\n",
    "\n",
    "You could also create an `ee.Geometry.Polygon` object and pass a `list` of coordinates.  This is shown in option 2 below.\n",
    "\n",
    "#### Preset ROI"
   ]
  },
  {
   "cell_type": "code",
   "execution_count": 4,
   "metadata": {},
   "outputs": [],
   "source": [
    "# Option 1:\n",
    "# Set ROI as 10 mile (16,093 meters) radius around the intersection of\n",
    "# Pena Blvd and E-470 (about the SW corner of the airport)\n",
    "roi = ee.Geometry.Point([-104.746984, 39.834241]).buffer(16093)\n",
    "\n",
    "# Option 2:\n",
    "# Set ROI as a Polygon object with your own coordinates\n",
    "# (uncomment the code below to run this instead)\n",
    "# roi = ee.Geometry.Polygon([[-104.90118, 39.74158],\n",
    "#                            [-104.90118, 39.913489],\n",
    "#                            [-104.628571, 39.913489],\n",
    "#                            [-104.628571, 39.74158],\n",
    "#                            [-104.90118, 39.74158]])"
   ]
  },
  {
   "cell_type": "markdown",
   "metadata": {},
   "source": [
    "#### Draw Your Own ROI\n",
    "Alternatively, you can draw a shape on the interactive Map above then extract that shape as an `ee.Geometry.Polygon` object.  This is done by first drawing the shape on the Map above then **uncommenting line 2 in the code cell below** and running the code.  ![Draw Features on Map](images/draw_features_geemap.png)"
   ]
  },
  {
   "cell_type": "code",
   "execution_count": 5,
   "metadata": {},
   "outputs": [],
   "source": [
    "# # Draw your own ROI (polygon) on the Map then save it to a variable\n",
    "# roi = ee.FeatureCollection(Map.draw_features)"
   ]
  },
  {
   "cell_type": "markdown",
   "metadata": {},
   "source": [
    "## 1.4 Understanding `ee` Objects\n",
    "*Congratulations!*  You have created your first `ee` object.  Whenver you have an `ee` object you can view its section in the Google Earth Engine documentation to understand what methods can be run on this object.  \n",
    "\n",
    "There are seven different types of `ee.Geometry` objects, however, in this tutorial we will be working with the `ee.Geometry.Polygon` object. \n",
    "\n",
    "Note: When you draw a shape on the interactive map, even if it's a circle, it will be stored as a `Polygon` object. \n",
    "\n",
    "### Visualizing `ee` Objects\n",
    "Visualize your `ee.Geometry.Polygon` object by adding your first layer to the Map.  Here is the code: \n",
    "\n",
    "`Map.addLayer(eeObject, visParams, name, shown, opacity)`\n",
    "\n",
    "Adding a layer to the Map is something that you will do often.  In the case of your ROI, we will leave the `visParams` argument empty because we do not need to select bands or give any minimum, maximum or gain values because we simply want a black shape on our map.\n",
    "\n",
    "\n",
    "*See the [GEE docs](https://code.earthengine.google.com) to view the documenataion on the `Map.addLayer()` function in more detail.*  \n"
   ]
  },
  {
   "cell_type": "code",
   "execution_count": 6,
   "metadata": {
    "tags": [
     "hide"
    ]
   },
   "outputs": [],
   "source": [
    "# Add your ROI to the map as your first map layer\n",
    "Map.addLayer(roi, {}, 'ROI', opacity=0.5)"
   ]
  },
  {
   "cell_type": "markdown",
   "metadata": {},
   "source": [
    "*Awesome!* \n",
    "Now you have added your first map layer.  Remember, although the basemap is a layer, it hardly functions as one because it does not hold any data.  Use the floating box on the right-hand side to toggle layers on and off. ![Layer floating box](images/layer_floating_box.png)"
   ]
  },
  {
   "cell_type": "markdown",
   "metadata": {
    "tags": [
     "hide"
    ]
   },
   "source": [
    "### Examining `ee` Objects\n",
    "Let's talk about object types when you are using the Google Earth Engine Python API.  In the code below we will examine the `roi` variable as we would with any variable in Python.  It is not similar to a normal python object because it will not print out its contents.  "
   ]
  },
  {
   "cell_type": "code",
   "execution_count": 7,
   "metadata": {},
   "outputs": [
    {
     "name": "stdout",
     "output_type": "stream",
     "text": [
      "roi type is:  <class 'ee.geometry.Geometry'> \n",
      "\n",
      "roi print output is:\n",
      "\n",
      " ee.Geometry({\n",
      "  \"type\": \"Invocation\",\n",
      "  \"arguments\": {\n",
      "    \"geometry\": {\n",
      "      \"type\": \"Point\",\n",
      "      \"coordinates\": [\n",
      "        -104.746984,\n",
      "        39.834241\n",
      "      ]\n",
      "    },\n",
      "    \"distance\": 16093\n",
      "  },\n",
      "  \"functionName\": \"Geometry.buffer\"\n",
      "})\n"
     ]
    }
   ],
   "source": [
    "# Examine type\n",
    "print('roi type is: ', type(roi), '\\n')\n",
    "\n",
    "# Try to print roi\n",
    "print('roi print output is:\\n\\n', roi)"
   ]
  },
  {
   "cell_type": "markdown",
   "metadata": {},
   "source": [
    "##### Are You Confused?  `.getInfo()` Might Help!\n",
    "Rather than printing out its contents, `print(roi)` has only confused us.\n",
    "\n",
    "One method that you can run on almost any `ee` object is `.getInfo()`.  You should run `.getInfo()` in any circumstance when you would otherwise run `print()` to attempt to look inside an object; it will return a dicionary that holds valuable metadata including the object `type`.  If `.getInfo()` does not provide the understanding you need then remember you can always try visualizing the `ee` object with `Map.addLayer()`."
   ]
  },
  {
   "cell_type": "code",
   "execution_count": 8,
   "metadata": {},
   "outputs": [
    {
     "data": {
      "text/plain": [
       "{'type': 'Polygon',\n",
       " 'coordinates': [[[-104.74698400000003, 39.97905974975719],\n",
       "   [-104.79976678659239, 39.973284016955745],\n",
       "   [-104.84832310085373, 39.95641936004324],\n",
       "   [-104.88877075086636, 39.9298157045635],\n",
       "   [-104.91788620683361, 39.89560054511281],\n",
       "   [-104.93336237331994, 39.856506506520816],\n",
       "   [-104.93398889066185, 39.815650984223154],\n",
       "   [-104.91974170352333, 39.77628629385638],\n",
       "   [-104.89177691750443, 39.74154074105805],\n",
       "   [-104.85233194858966, 39.714171221997894],\n",
       "   [-104.80454392948539, 39.696346534149995],\n",
       "   [-104.75220087244183, 39.68947778599627],\n",
       "   [-104.69944509491718, 39.69410846624248],\n",
       "   [-104.65045098033968, 39.70987219021903],\n",
       "   [-104.60910042725811, 39.73552117924187],\n",
       "   [-104.57867945211666, 39.769023414890334],\n",
       "   [-104.56161836526535, 39.807721398184675],\n",
       "   [-104.55929563793609, 39.848540796379055],\n",
       "   [-104.57192186421288, 39.88823326719261],\n",
       "   [-104.5985149854282, 39.9236347303136],\n",
       "   [-104.6369712428352, 39.9519186347889],\n",
       "   [-104.68422849404463, 39.9708236344065],\n",
       "   [-104.7365102331742, 39.97883671132637],\n",
       "   [-104.74698400000003, 39.97905974975719]]]}"
      ]
     },
     "execution_count": 8,
     "metadata": {},
     "output_type": "execute_result"
    }
   ],
   "source": [
    "# Look inside of the roi variable\n",
    "roi.getInfo()"
   ]
  },
  {
   "cell_type": "markdown",
   "metadata": {},
   "source": [
    "## Exercise: Save the Coordinates of `roi`\n",
    "In this exercise you will save the coordinates of the `ee.Geometry.Polygon` you drew on the interactive Map.\n",
    "\n",
    "If you have not already done this then return to section **Draw Your Own ROI** in **Section 1.3 Define Region of Interest (ROI)**.\n",
    "\n",
    "\n",
    "It is useful to save the coordinates of the ROI that you drew because you will have to redraw the ROI each time you restart and clear the kernel.  \n",
    "\n",
    "To do this we must extract the coordinates from the dictionary that is returned when we call `.getInfo()` and create an `ee.Geometry.Polygon` object with those coordinates.  This must be done with good old fashioned copy/paste.  **First, uncomment the code below**, then run the code!"
   ]
  },
  {
   "cell_type": "code",
   "execution_count": 9,
   "metadata": {},
   "outputs": [],
   "source": [
    "# # Navigate through the dictionary to extract the coordinates\n",
    "# coords = roi.getInfo()['features'][0]['geometry']['coordinates'][0]\n",
    "# coords"
   ]
  },
  {
   "cell_type": "code",
   "execution_count": 10,
   "metadata": {},
   "outputs": [],
   "source": [
    "# # Copy the output from the previous cell and paste the list as the argument\n",
    "# for the ee.Geometry.Polygon(arg) below\n",
    "# roi = ee.Geometry.Polygon(# list of coordinates here)"
   ]
  },
  {
   "cell_type": "markdown",
   "metadata": {},
   "source": [
    "# Tutorial Part 2: Image Collections (`ee.ImageCollection` Objects)\n",
    "1. Loading Image Collections\n",
    "2. Filtering Image Collections"
   ]
  },
  {
   "cell_type": "markdown",
   "metadata": {},
   "source": [
    "## 2.1 Loading Image Collections\n",
    "Working with ee.ImageCollections looks really simple but is actualy really powerful.\n",
    "\n",
    "Visit the Google Earth Engine Data Catalog (https://developers.google.com/earth-engine/datasets) to select the Landsat 5 dataset.  Save this dataset into a variable named `all_Landsat5`.  \n",
    "\n",
    "*Note: this is called \"loading\" an Image Collection rather than \"importing\".  This is because you are not \"importing\" any data to your local computer, instead you are establishing a connection with the Image Collection on the Google servers.*"
   ]
  },
  {
   "cell_type": "code",
   "execution_count": 11,
   "metadata": {},
   "outputs": [
    {
     "name": "stdout",
     "output_type": "stream",
     "text": [
      "all_Landsat5 object type:  <class 'ee.imagecollection.ImageCollection'>\n",
      "\n",
      "Total number of Landsat scenes (ee.Image objects) in the collection:  1657727\n"
     ]
    }
   ],
   "source": [
    "# The entire Landsat5 dataset\n",
    "all_Landsat5 = ee.ImageCollection('LANDSAT/LT05/C01/T1')\n",
    "\n",
    "# Examine object type\n",
    "print('all_Landsat5 object type: ', type(all_Landsat5))\n",
    "\n",
    "# How many ee.Images are in the ee.ImageCollection\n",
    "# (this may take a minute to run)\n",
    "print('\\nTotal number of Landsat scenes (ee.Image objects) in the collection: ',\n",
    "      all_Landsat5.size().getInfo())"
   ]
  },
  {
   "cell_type": "markdown",
   "metadata": {},
   "source": [
    "It only took one line of code, but `all_Landsat5` now holds every single Landsat scene ever taken in the history of the Landsat5 sattellite.  Each Landsat scene is stored in GEE as an `ee.Image` object, so the entire Landsat 5 dataset is stored as a single `ee.ImageCollection` object that holds of all of those individual `ee.Image` objects.  As shown in the code above, it's pretty incredible that there are **over one and a half milliion Landsat scenes in `all_Landsat5`**.  \n",
    "\n",
    "## 2.2 FIltering Image Collections\n",
    "The power of the Google Earth Engine Python API is that you can filter through all of those images without ever having to store them locally on our computer.\n",
    "\n",
    "You can use `.filterDate()` and `.filterBounds()` to filter through the collection.  Let's filter our collection to only include ee.Images that cover our `ee.Geometry.Polygon` object, `roi`, and have been taken since the completion of the construction of DIA (1995).  "
   ]
  },
  {
   "cell_type": "code",
   "execution_count": 12,
   "metadata": {},
   "outputs": [
    {
     "name": "stdout",
     "output_type": "stream",
     "text": [
      "Size of collection (1995-2012):  1047796\n",
      "Size of collection (1995-2012) and filtered by ROI:  938\n"
     ]
    }
   ],
   "source": [
    "# Filterting by only date reduces the collection to just over one million\n",
    "# ee.Image objects (this may take a minute to run)\n",
    "print('Size of collection (1995-2012): ',\n",
    "      all_Landsat5.filterDate('1995-01-01', '2012-12-31').size().getInfo())\n",
    "\n",
    "# Filter by date and bounds and save collection to a new variable\n",
    "filtered_Landsat5 = all_Landsat5.filterDate(\n",
    "    '1995-01-01', '2012-12-31').filterBounds(roi)\n",
    "\n",
    "# Filtering by date and bounds will reduce the collection by a much larger degree\n",
    "print('Size of collection (1995-2012) and filtered by ROI: ',\n",
    "      filtered_Landsat5.size().getInfo())"
   ]
  },
  {
   "cell_type": "markdown",
   "metadata": {},
   "source": [
    "# Tutorial Part 3: Overcoming JavaScript Documentation\n",
    "1. Github Repository of Translated Scripts\n",
    "2. Translating From JavaScript to Python Yourself\n",
    "    * JavaScript example\n",
    "    * Python Translation\n"
   ]
  },
  {
   "cell_type": "markdown",
   "metadata": {},
   "source": [
    "One challenge you'll face when working with the GEE Python API is that the [GEE documentation](https://code.earthengine.google.com) and [GEE guide](https://developers.google.com/earth-engine) are in JavaScript but you need Python!\n",
    "\n",
    "When you find a code example in the [GEE documentation](https://code.earthengine.google.com) that you want to use in your Python workflow you have two options:\n",
    "* Option 1: Visit the [translated GEE documentation on Github](https://github.com/giswqs/earthengine-py-notebooks) and navigate the repository to see if the same code example exists in the Python translation. \n",
    "* Option 2: Translate the code yourself!\n",
    "\n",
    "## 3.1 Github Repository of Translated Scripts\n",
    "\n",
    "\n",
    "\n",
    "##### [Dr. Qiusheng Wu](https://geography.utk.edu/about-us/faculty/dr-qiusheng-wu/) is a Geography Professor at the University of Tennessee Knoxville\n",
    "In addition to creating the geemap Python package, he [mostly translated the GEE documentation from JavaScript to Python](https://github.com/giswqs/earthengine-py-notebooks).\n"
   ]
  },
  {
   "cell_type": "markdown",
   "metadata": {},
   "source": [
    "## 3.2 Translating From JavaScript to Python Yourself\n",
    "\n",
    "The following two code cells contain the same code, however the first is in JavaScript and the second is in Python.  It may seem cumbersome, but the reality when working with Google Earth Engine Python API is that it is often quicker to translate the code in the [GEE guide](https://developers.google.com/earth-engine) yourself.  Although this is tedious, it may prove to help  you understand your code and stop you from instinctively copying/pasting code snippets from the guide.\n",
    "\n",
    "Here are some guidelines for translating code from JavaScript to Python:\n",
    "* Remove the `var`'s and `;`'s and you're halfway there!\n",
    "* Edit dictionary keys\n",
    "    * In JavaScript a dictionary key will not be in quotes, however in Python a dictionary key needs to be a string.\n",
    "    * Lookout for visualization parameters, they are typically entered as a dictionary\n",
    "* Reformat Functions\n",
    "    * Python functions do not need to be within brackets and are prefixed with `def`\n",
    "    * The first line of a Python function needs to end with `:`\n",
    "    * Be sure to re-indent the content of the function\n",
    "* Fix the comment notation - change `//` to `#`"
   ]
  },
  {
   "cell_type": "markdown",
   "metadata": {},
   "source": [
    "#### JavaScript example \n",
    "(Running this code in Jupyter would return a SyntaxError)\n",
    "\n",
    "    // This function adds a band representing the image timestamp\n",
    "    var addTime = function(image) {\n",
    "      return image.addBands(image.metadata('system:time_start'));\n",
    "    };\n",
    "\n",
    "    // Define a point on Map\n",
    "    var point = ee.Geometry.Point([-104.90118, 39.74158]);\n",
    "\n",
    "    // Load Landsat 5 Image Collection\n",
    "    var all_Landsat5 = ee.ImageCollection('LANDSAT/LT05/C01/T1');\n",
    "\n",
    "    // Filter Landsat 5 collection by date and point\n",
    "    var filtered_Landsat5 = all_Landsat5.filterDate(\n",
    "        '1995-01-01', '2012-12-31').filterBounds(point).map(addtime);\n",
    "\n",
    "    // Add collection as a Map Layer\n",
    "    Map.addLayer(filtered_Landsat5, {\n",
    "                 bands: ['B3', 'B2', 'B1'], min: 0, max: 128}, 'RGB_Landsat5');\n",
    "                 \n",
    "#### Python Translation\n",
    "\n",
    "    # This function adds a band representing the image timestamp\n",
    "    def addTime(image):\n",
    "        return image.addBands(image.metadata('system:time_start'))\n",
    "\n",
    "    # Define a point on Map\n",
    "    point = ee.Geometry.Point([-104.90118, 39.74158])\n",
    "\n",
    "    # Load Landsat 5 Image Collection\n",
    "    all_Landsat5 = ee.ImageCollection('LANDSAT/LT05/C01/T1')\n",
    "\n",
    "    # Filter Landsat 5 collection by date and point\n",
    "    filtered_Landsat5 = all_Landsat5.filterDate(\n",
    "        '1995-01-01', '2012-12-31').filterBounds(point).map(addtime)\n",
    "\n",
    "    # Add collection as a Map Layer\n",
    "    Map.addLayer(filtered_Landsat5, {\n",
    "                 'bands': ['B3', 'B2', 'B1'], 'min': 0, 'max': 128}, 'RGB_Landsat5')"
   ]
  },
  {
   "cell_type": "markdown",
   "metadata": {},
   "source": [
    "# Tutorial Part 4: Linear Fit Workflow Walk Through\n",
    "1. Analysis Approach Explained\n",
    "2. Recap of Tutoral Part 1 and Part 2\n",
    "    * Define ROI\n",
    "    * Load Image Collection\n",
    "3. Defining Functions for `ee.ImageCollection` Objects\n",
    "    * Spectral Unmixing Explained\n",
    "4. Mapping Functions Over `ee.ImageCollection` Objects\n",
    "5. Linear Fit Reducer"
   ]
  },
  {
   "cell_type": "markdown",
   "metadata": {},
   "source": [
    "## 4.1 Analysis Approach Explained\n",
    "The output of this analysis is an ee.Image object that has two bands (meaning each pixel will have two values) that represent a linear fit model.  The first band will be the *scale* and the second value will be the *offset*.  *Scale* and *offset* represent the **slope** and **intercept** of a linear model that has been fit to each pixel of for data that was input to the model. (Recall y = mx+b.)\n",
    "\n",
    "| Linear Model Output  | Interpretation |\n",
    "|---|---|\n",
    "| Scale  |  Slope (m) |\n",
    "|  Offset |  Intercept (b) |\n",
    "\n",
    "The goal of this analysis will be to take a collection of Landsat 5 images and **unmix** the band values from wavelength to endmember fractions by a process called spectral unmixing.  This will be done with the built-in GEE `.unmix()` method for `ee.Image` objects (explained in *Section 4.3*).  Once the Landsat5 collection has been processed to contain just four bands (urban, vegetation, water, and a time band) a linear line will be fit to the change in data in each pixel from 1995 to 2012.  This **linear fit** will measure the relationship between the independent variable (time) and the dependent variable (urban)."
   ]
  },
  {
   "cell_type": "markdown",
   "metadata": {},
   "source": [
    "## 4.2 Recap of Tutoral Part 1 and Part 2\n",
    "\n",
    "#### Define ROI\n",
    "In Part 1 we defined the ROI and saved it to a variable called `roi`.  Call `roi` in the cell below to be sure that it contains an `ee.Geometry` object."
   ]
  },
  {
   "cell_type": "code",
   "execution_count": 13,
   "metadata": {},
   "outputs": [
    {
     "data": {
      "text/plain": [
       "<ee.geometry.Geometry at 0x7fbcdaa618d0>"
      ]
     },
     "execution_count": 13,
     "metadata": {},
     "output_type": "execute_result"
    }
   ],
   "source": [
    "roi"
   ]
  },
  {
   "cell_type": "markdown",
   "metadata": {},
   "source": [
    "#### Load Image Collection\n",
    "Then in Part 2 we loaded the Landsat 5 collection and saved it to a variable called `all_Landsat5`.  Then we filtered by date (1995-2012) and by bounds (roi) and saved it to a variable called `filtered_Landsat5`.  Call `filtered_Landsat5` in the cell below to be sure that it conatins an `ee.ImageCollection` object."
   ]
  },
  {
   "cell_type": "code",
   "execution_count": 14,
   "metadata": {},
   "outputs": [
    {
     "data": {
      "text/plain": [
       "<ee.imagecollection.ImageCollection at 0x7fbcdab86c88>"
      ]
     },
     "execution_count": 14,
     "metadata": {},
     "output_type": "execute_result"
    }
   ],
   "source": [
    "filtered_Landsat5"
   ]
  },
  {
   "cell_type": "markdown",
   "metadata": {},
   "source": [
    "## 4.3 Defining Functions for `ee.ImageCollection` Objects\n",
    "\n",
    "In the code cell below we will define the only function used for our analysis.  This function will be applied to the `ee.ImageCollection` object we have made called `filtered_Landsat5`.  However, we will not apply this function in the same way that you normally run a function in Python. \n",
    "\n",
    "Normal Python function:\n",
    "    \n",
    "    def function(input):\n",
    "        return input + 10\n",
    "        \n",
    "    number = 1\n",
    "    new_number = function(number)\n",
    "    \n",
    "    print(new_number)\n",
    "    > 11\n",
    "    \n",
    "What we want to do is change every single `ee.Image` object that is inside of the `ee.ImageCollection` object.  This will be done by [*mapping* the function over the entire image collection](https://developers.google.com/earth-engine/ic_mapping).  (Think iterating a function over a list of objects.)\n",
    "\n",
    "**So**, we can write the function in the same way we normally would write a function in Python **but there is one important distinction**: the input **and** return has to be an `ee.Image` object.  Yes, that means that **the function can only accept one parameter**.\n",
    "\n",
    "Below is our function, notice taht it accepts only a single `ee.Image` object and returns a single `ee.Image` object."
   ]
  },
  {
   "cell_type": "code",
   "execution_count": 15,
   "metadata": {},
   "outputs": [],
   "source": [
    "def unmix_L5(image_L5):\n",
    "    \"\"\"Unmix each pixel with the given endmembers, by computing the pseudo-inverse\n",
    "    and multiplying it through each pixel. Returns an image of doubles with the same\n",
    "    number of bands as endmembers. (Description from GEE docs).\n",
    "\n",
    "    Parameters\n",
    "    ----------\n",
    "    image_L5 : ee.Image\n",
    "        Any ee.Image object from Landsat 5 (must include at least the first 7 bands).\n",
    "\n",
    "    Returns\n",
    "    ------\n",
    "    unmixed_image : ee.Image\n",
    "        A 4-band ee.Image object.  Three bands, ('urban', 'veg', and 'water') are the\n",
    "        per-pixel fraction that the .unmix() method determined that correspond with\n",
    "        the three given endmember values.  The final band, 'system:time_start' is\n",
    "        the time metadata associated with that image.\n",
    "    \"\"\"\n",
    "    # Select bands 1-7\n",
    "    bands = ['B1', 'B2', 'B3', 'B4', 'B5', 'B6', 'B7']\n",
    "    image = image_L5.select(bands)\n",
    "\n",
    "    # Endmembers taken from GEE unmix() example script found here:\n",
    "    # https://developers.google.com/earth-engine/image_transforms\n",
    "    urban = [88, 42, 48, 38, 86, 115, 59]  \n",
    "    veg = [50, 21, 20, 35, 50, 110, 23]  \n",
    "    water = [51, 20, 14, 9, 7, 116, 4]  \n",
    "    \n",
    "    # Run the GEE unmix() method with to get per-pixel fractions that are non-negative\n",
    "    # and sum-to-one\n",
    "    unmixed_image = image.unmix([urban, veg, water], True, True).rename([\n",
    "        'urban', 'veg', 'water'])\n",
    "    \n",
    "    # Add time band and return image - time stamp is divided by large number to avoid \n",
    "    # extra high (or low) scale values.\n",
    "    return unmixed_image.addBands(image.metadata('system:time_start').divide(1e13))"
   ]
  },
  {
   "cell_type": "markdown",
   "metadata": {},
   "source": [
    "#### Spectral Unmixing Explained\n",
    "So now you may be wondering, \"what the heck does this function do?\"\n",
    "\n",
    "As stated in *Section 4.1*, the function takes an ee.Image and unmixes the band values from wavelength to endmember fractions by a process called spectral unmixing. This is be done with the built-in GEE .unmix() method for ee.Image objects. The output is a Landsat5 ee.Image no longer contains its seven bands of reflectances for each wavelength category measured by Landsat 5, these values at each pixel have been \"unmixed\" to contain a guess as to the fraction of land cover at each pixel for each of the given endmembers (urban, veg, and water).  Additionally, a band that contains a time stamp has been included in the output. \n",
    "\n",
    "![Graphic that attempts to explain spectral unmixing in the context of this workflow](images/spectral_unmixing_graphic.png)\n",
    "\n",
    "\n",
    "An output pixel has one band for each endmember.  The value for each band is the fraction of the area of that pixel that was calculated to correspond with the endmember.  This is interpreted to be the fraction of land cover at that pixel. \n",
    "\n",
    "![An example output pixel from spectral unmixing and its interpretation in the context of this workflow.](images/example_output_pixel_interpretation.png)\n",
    "\n",
    "*If you want an oversimpilified explanation, consider this:\n",
    "Spectral unmixing can theoretically determine whether the land at each pixel is one of three categories: urban, vegetation, or water.  Each pixel in a Landsat image has a number that basically tells you how bright that small piece of Earth is.  Spectral unmixing considers how bright a piece of Earth should be if it is urban, vegetation, or water and calculates which category each pixel fits into.  However, it’s a bit more complicated - spectral unmixing assigns a percentage of each category to each pixel.  For example: if you examine a Landsat pixel in a city park next to a pond, there could be 50% urban, 25% vegetation and 25% water in the 30m x 30m pixel.*\n",
    "\n"
   ]
  },
  {
   "cell_type": "markdown",
   "metadata": {},
   "source": [
    "## 4.4 Mapping Functions Over `ee.ImageCollection` Objects\n",
    "\n",
    "This part of the workflow is really simple!  Again, GEE Python API looks so simple, but it's pretty incredible to think that this function is running on every single image in the collection.  If you're using the *Preset ROI, Option 1* from *Section 1.3* (10 mile radius around the airport) then this ImageCollection holds 938 images!  \n",
    "\n",
    "Remember, we are changing every single Image in the ImageCollection by mapping the function over the entire image collection with the `.map()` method.  To learn more reveiw the [section on Mapping Over ImageCollections in the GEE Guide](https://developers.google.com/earth-engine/ic_mapping).\n",
    "\n",
    "*Note about runtime: one thing you will notice is that this code runs surprisingly quickly!  However, the code is not actually being run on the Google servers until you request an output (like visualizing with `Map.addLayer()` or `.getInfo()`)* "
   ]
  },
  {
   "cell_type": "code",
   "execution_count": 16,
   "metadata": {},
   "outputs": [],
   "source": [
    "# Apply unmix_L5 function to each Image in the ImageCollection by \"mapping\" it\n",
    "# over the ImageCollection\n",
    "unmixed_Landsat5 = filtered_Landsat5.map(unmix_L5)"
   ]
  },
  {
   "cell_type": "markdown",
   "metadata": {},
   "source": [
    "## 4.5 Linear Fit Reducer\n",
    "\n",
    "Now we have processed our `ee.ImageCollection` object to the point that we can do some analysis!  Our ImageCollection now has four bands: `'urban'`, `'veg'`, `'water'`, and `'system:time_start'`.  Remember, we are using Landsat imagery from across 17 years to see if there is a trend in urban land cover fraction at each pixel.  Therefore, our independent variable is time (represented by the band `'system:time_start'`) and our dependent variable is the urban fraction at each pixel (represented by the band `'urban'`).\n",
    "\n",
    "To learn more about the `linearFit()` function and Reducers in general in Google Earth Engine, review the [Linear Regression section in the GEE Guide](https://developers.google.com/earth-engine/reducers_regression)."
   ]
  },
  {
   "cell_type": "code",
   "execution_count": 17,
   "metadata": {},
   "outputs": [],
   "source": [
    "# Reduce the collection with the ee.Reducer, linearFit\n",
    "# Independent variable are followed by dependent variables.\n",
    "linearFit = unmixed_Landsat5.select(\n",
    "    ['system:time_start', 'urban']).reduce(ee.Reducer.linearFit())"
   ]
  },
  {
   "cell_type": "markdown",
   "metadata": {},
   "source": [
    "It's that simple!  We have done it!  We have fit a linear model that measures trend in the fraction of urban at each pixel over time from 1995 to 2012. \n",
    "\n",
    "To be sure that we got what we were expecting (an ee.Image object with two bands (`'scale'` and `'offset'`) let's look inside our linearFit variable with `.getInfo()` as we learned earlier in this tutorial."
   ]
  },
  {
   "cell_type": "code",
   "execution_count": 18,
   "metadata": {},
   "outputs": [
    {
     "data": {
      "text/plain": [
       "{'type': 'Image',\n",
       " 'bands': [{'id': 'scale',\n",
       "   'data_type': {'type': 'PixelType', 'precision': 'double'},\n",
       "   'crs': 'EPSG:4326',\n",
       "   'crs_transform': [1, 0, 0, 0, 1, 0]},\n",
       "  {'id': 'offset',\n",
       "   'data_type': {'type': 'PixelType', 'precision': 'double'},\n",
       "   'crs': 'EPSG:4326',\n",
       "   'crs_transform': [1, 0, 0, 0, 1, 0]}]}"
      ]
     },
     "execution_count": 18,
     "metadata": {},
     "output_type": "execute_result"
    }
   ],
   "source": [
    "# Verify that it is an ee.Image object with two bands (scale and offset)\n",
    "linearFit.getInfo()"
   ]
  },
  {
   "cell_type": "markdown",
   "metadata": {},
   "source": [
    "Now, let's visualize our linear model.  First, we will clip the model to the ROI, then add the model as a new layer to the interactive map.  Then we will call the interactive map object, `Map`, so that we do not have to scroll all the way to the top of the notebook (where `Map` was last called) to view the new layer."
   ]
  },
  {
   "cell_type": "code",
   "execution_count": 19,
   "metadata": {
    "scrolled": false
   },
   "outputs": [
    {
     "data": {
      "application/vnd.jupyter.widget-view+json": {
       "model_id": "cfba697e43a744ad8b1172dbb2a36143",
       "version_major": 2,
       "version_minor": 0
      },
      "text/plain": [
       "Map(center=[39.791424, -104.809968], controls=(WidgetControl(options=['position'], widget=HBox(children=(Toggl…"
      ]
     },
     "metadata": {},
     "output_type": "display_data"
    }
   ],
   "source": [
    "# Clip ee.Image to ROI\n",
    "clipped_linearFit = linearFit.clip(roi)\n",
    "\n",
    "# Add linearFit model to the interactive map\n",
    "Map.addLayer(clipped_linearFit,\n",
    "             {'min': 0, 'max': [-0.9, 8e-5, 1], 'bands': ['scale', 'offset', 'scale']}, 'Linear_Fit')\n",
    "\n",
    "# Add legend to map\n",
    "legend_keys = ['High Negative Urban Trend', 'Negative Urban Trend',\n",
    "               'Nearly No Urban Trend', 'Positive Urban Trend']\n",
    "legend_colors = ['#0000FF', '#01FFFF', '#00FF1F', '#FFFF02']\n",
    "\n",
    "Map.add_legend(legend_keys=legend_keys,\n",
    "               legend_colors=legend_colors, position='bottomleft')\n",
    "\n",
    "# Display the interactive map\n",
    "Map"
   ]
  },
  {
   "cell_type": "markdown",
   "metadata": {},
   "source": [
    "##### Interpretation of plot: \n",
    "The yellow pixels corresond to areas in the ROI that havea  positive urban trend.  If you turn off the 'Linear_Fit' layer, the basemap reveals high quality imagery of the land as it appears today, in 2020.  Comparing the areas in yellow, that are calculated to have had a positive urban trend in 2012, to the basemap, it appears that the yellow areas align with neighborhoods that exist today.  However, there are few areas of the map that are extensively in yellow.  On the other hand, the majority of the map marked as having a negative urban trend (light blue).  "
   ]
  },
  {
   "cell_type": "markdown",
   "metadata": {},
   "source": [
    "**Congratulations!**  You have completed the tutorial!  Now you are prepared to start using the Google Earth Engine Python API to explore spatial data.  A great next step is to pick a new dataset from the [Earth Engine Data Catalog](https://developers.google.com/earth-engine/datasets) and import is as an `ee.ImageCollection` and filter the collection in unique ways!  "
   ]
  },
  {
   "cell_type": "markdown",
   "metadata": {},
   "source": [
    "# Results/Conclusions of Analysis\n",
    "In order to interpret the results of the linear fit model, I have exported the model form GEE (as a .TIF file) then re-imported the model into a numpy array.  The linear fit model is interpreted in the code cells below to determine that 13% of the pixels in the ROI have a positive urban trend.  This means that the urban fraction at each of those pixels has increased throughout the temporal range of the analysis (1995 to 2012). \n",
    "\n",
    "#### Conclusions of Tutorial\n",
    "The primary limitation for a new user to the Google Earth Engine Python API is that the GEE documentation and guide are in JavaScript.  I believe that it is imperative that new users learn to read JavaScript because the guide is a very useful resource.  However, I do not believe that this is a large limitation because JavaScript and Python are very similar languages.\n",
    "\n",
    "It is also clear that using using the GEE Python API in Jupyter Notebooks would be much more difficult without the use of geemap. "
   ]
  },
  {
   "cell_type": "code",
   "execution_count": 20,
   "metadata": {},
   "outputs": [
    {
     "name": "stdout",
     "output_type": "stream",
     "text": [
      "Generating URL ...\n",
      "Downloading data from https://earthengine.googleapis.com/v1alpha/projects/earthengine-legacy/thumbnails/672313992ad79b4d6f11d6c89f6c35d1-cfc114194c389ef36d60c078e320d9a6:getPixels\n",
      "Please wait ...\n",
      "Data downloaded to /Users/richardudell/Downloads\n"
     ]
    }
   ],
   "source": [
    "# Define reproducible file paths for export\n",
    "out_dir = os.path.join(et.io.HOME, 'Downloads')\n",
    "filename = os.path.join(out_dir, 'linearFit.tif')\n",
    "\n",
    "# Exports two files - one file per band ('filename.bandname.tif')\n",
    "geemap.ee_export_image(clipped_linearFit, filename=filename, scale=90, region=roi, file_per_band=True)"
   ]
  },
  {
   "cell_type": "code",
   "execution_count": 21,
   "metadata": {},
   "outputs": [],
   "source": [
    "# Confirm that linearFit.scale.tif appears in your Downloads folder\n",
    "scale_path = os.path.join(et.io.HOME, 'Downloads', 'linearFit.scale.tif')\n",
    "\n",
    "# Import scale (slope values for each pixel in the ROI)\n",
    "with rio.open(scale_path) as src:\n",
    "    scale_tif = src.read()"
   ]
  },
  {
   "cell_type": "code",
   "execution_count": 22,
   "metadata": {},
   "outputs": [
    {
     "name": "stdout",
     "output_type": "stream",
     "text": [
      "Number of pixels above zero:  21039 \n",
      "Below zero:  145896 \n",
      "At zero:  0\n"
     ]
    }
   ],
   "source": [
    "# Calculate the total number of pixels in the dataset\n",
    "total = scale_tif < np.inf\n",
    "\n",
    "# Interpret the slope values as either trending positive or negative (above\n",
    "# or below zero)\n",
    "above = scale_tif < 0\n",
    "below = scale_tif > 0\n",
    "\n",
    "# Confirm that there are no values at zero\n",
    "at = scale_tif == 0\n",
    "\n",
    "print('Number of pixels above zero: ', above.sum(),\n",
    "      '\\nBelow zero: ', below.sum(), \n",
    "      '\\nAt zero: ', at.sum())"
   ]
  },
  {
   "cell_type": "code",
   "execution_count": 23,
   "metadata": {},
   "outputs": [],
   "source": [
    "# Calculate the total area of the ROI\n",
    "area_per_pixel = clipped_linearFit.pixelArea()\n",
    "total_area_roi = area_per_pixel.reduceRegion(ee.Reducer.sum(), roi, 30)\n",
    "total_area_roi = total_area_roi.getInfo()['area']"
   ]
  },
  {
   "cell_type": "code",
   "execution_count": 24,
   "metadata": {},
   "outputs": [
    {
     "name": "stdout",
     "output_type": "stream",
     "text": [
      "0.13 % of the pixels in the ROI are trending towards urban.\n",
      "This is the same as:  104614003  square meters, or\n",
      "40.39150716  square miles.\n"
     ]
    }
   ],
   "source": [
    "# Calculate the percent of pixels trending towards urban\n",
    "trending_urban_perc = round(above.sum()/total.sum(), 2)\n",
    "\n",
    "print(trending_urban_perc, '% of the pixels in the ROI are trending towards urban.')\n",
    "print('This is the same as: ', int(trending_urban_perc * total_area_roi), ' square meters, or', )\n",
    "print(round((trending_urban_perc * total_area_roi)/2.59e6, 8), ' square miles.')"
   ]
  },
  {
   "cell_type": "markdown",
   "metadata": {},
   "source": [
    "# Implications/Next Steps\n",
    "This tutorial stands to prove that the Google Earth Engine API can run effectively in Jupyter Notebooks.  Moving forward, I would like to expand the temporal range of the analysis to 2020.  This would increase the relevance of the identification of urban trend.  However, this would require the addition of Landsat 8 imagery to the workflow and likely the calculation of new endmembers for spectral unmixing.  Additionally, I would like to expand the linear analysis to include a linear regression model that could predict future urban development in the land surrounding DIA."
   ]
  },
  {
   "cell_type": "markdown",
   "metadata": {},
   "source": [
    "# Acknowledgements\n",
    "I would like to thank the Earth Lab at the University of Colorado Boulder for my education in Python and open-source spatial-data-analysis over the past year.  Thank Dr. Jenny Palomino for directly advising me on this project.  Thank you to the director of Earth Lab, Dr. Leah Wasser.  I would also like to thank Joe McGlinchy at Earth Lab for help understanding hyperspectral analysis.  Thank you to Kari Klein, Stephane Belmon, and Brian Shucker at Google for early direction with this project."
   ]
  },
  {
   "cell_type": "code",
   "execution_count": null,
   "metadata": {},
   "outputs": [],
   "source": []
  }
 ],
 "metadata": {
  "kernelspec": {
   "display_name": "Python 3",
   "language": "python",
   "name": "python3"
  },
  "language_info": {
   "codemirror_mode": {
    "name": "ipython",
    "version": 3
   },
   "file_extension": ".py",
   "mimetype": "text/x-python",
   "name": "python",
   "nbconvert_exporter": "python",
   "pygments_lexer": "ipython3",
   "version": "3.6.10"
  }
 },
 "nbformat": 4,
 "nbformat_minor": 4
}
