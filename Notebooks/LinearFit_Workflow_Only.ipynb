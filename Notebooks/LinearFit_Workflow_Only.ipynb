{
 "cells": [
  {
   "cell_type": "code",
   "execution_count": 1,
   "metadata": {
    "tags": [
     "hide"
    ]
   },
   "outputs": [],
   "source": [
    "# Import necessary packages\n",
    "import os\n",
    "import numpy as np\n",
    "import matplotlib.pyplot as plt\n",
    "\n",
    "import rasterio as rio\n",
    "import earthpy as et\n",
    "\n",
    "import ee\n",
    "import geemap"
   ]
  },
  {
   "cell_type": "code",
   "execution_count": 2,
   "metadata": {
    "tags": [
     "hide"
    ]
   },
   "outputs": [],
   "source": [
    "# Initiate interactive map\n",
    "Map = geemap.Map(center=(39.791424, -104.809968), zoom=10)\n",
    "Map.add_basemap('HYBRID')  # Add Google Map"
   ]
  },
  {
   "cell_type": "code",
   "execution_count": 3,
   "metadata": {
    "tags": [
     "hide"
    ]
   },
   "outputs": [],
   "source": [
    "# Define ROI\n",
    "\n",
    "# Set ROI as 10 mile (16,093 meters) radius around the intersection of\n",
    "# Pena Blvd and E-470 (about the SW corner of the airport)\n",
    "roi = ee.Geometry.Point([-104.746984, 39.834241]).buffer(16093)\n",
    "\n",
    "# Add ROI to map\n",
    "Map.addLayer(roi, {}, 'ROI', opacity=0.5)"
   ]
  },
  {
   "cell_type": "code",
   "execution_count": 4,
   "metadata": {},
   "outputs": [],
   "source": [
    "# Define function to unmix Landsat 5 ee.Image object and add a timestamp\n",
    "def unmix_L5(image_L5):\n",
    "    \"\"\"Unmix each pixel with the given endmembers, by computing the pseudo-inverse\n",
    "    and multiplying it through each pixel. Returns an image of doubles with the same\n",
    "    number of bands as endmembers. (Description from GEE docs).\n",
    "\n",
    "    Parameters\n",
    "    ----------\n",
    "    image_L5 : ee.Image\n",
    "        Any ee.Image object from Landsat 5 (must include at least the first 7 bands).\n",
    "\n",
    "    Returns\n",
    "    ------\n",
    "    unmixed_image : ee.Image\n",
    "        A 4-band ee.Image object.  Three bands, ('urban', 'veg', and 'water') are the\n",
    "        per-pixel fraction that the .unmix() method determined that correspond with\n",
    "        the three given endmember values.  The final band, 'system:time_start' is\n",
    "        the time metadata associated with that image.\n",
    "    \"\"\"\n",
    "    # Select bands 1-7\n",
    "    bands = ['B1', 'B2', 'B3', 'B4', 'B5', 'B6', 'B7']\n",
    "    image = image_L5.select(bands)\n",
    "\n",
    "    # Endmembers taken from GEE unmix() example script found here:\n",
    "    # https://developers.google.com/earth-engine/image_transforms\n",
    "    urban = [88, 42, 48, 38, 86, 115, 59]  # band_0\n",
    "    veg = [50, 21, 20, 35, 50, 110, 23]  # band_1\n",
    "    water = [51, 20, 14, 9, 7, 116, 4]  # band_2\n",
    "    \n",
    "    # Run the GEE unmix() method with to get per-pixel fractions that are non-negative\n",
    "    # and sum-to-one\n",
    "    unmixed_image = image.unmix([urban, veg, water], True, True).rename([\n",
    "        'urban', 'veg', 'water'])\n",
    "    \n",
    "    # Add time band and return image - time stamp is divided by large number to avoid \n",
    "    # extra high (or low) scale values.\n",
    "    return unmixed_image.addBands(image.metadata('system:time_start').divide(1e13))"
   ]
  },
  {
   "cell_type": "code",
   "execution_count": 5,
   "metadata": {},
   "outputs": [],
   "source": [
    "# Filter Landsat 5 ImageCollection and map the unmix function over the collection\n",
    "collection = ee.ImageCollection('LANDSAT/LT05/C01/T1').filterDate(\n",
    "    ee.Date('1995-01-01'), ee.Date('2011-12-31')).filterBounds(roi).map(unmix_L5)"
   ]
  },
  {
   "cell_type": "code",
   "execution_count": 6,
   "metadata": {},
   "outputs": [],
   "source": [
    "# Reduce the collection with the linear fit reducer - independent variable is\n",
    "# followed by the dependent variable\n",
    "linearFit = collection.select(\n",
    "    ['system:time_start', 'urban']).reduce(ee.Reducer.linearFit())"
   ]
  },
  {
   "cell_type": "code",
   "execution_count": 7,
   "metadata": {},
   "outputs": [
    {
     "data": {
      "application/vnd.jupyter.widget-view+json": {
       "model_id": "a66bf4004ebc4aad83ebef7947566695",
       "version_major": 2,
       "version_minor": 0
      },
      "text/plain": [
       "Map(center=[39.791424, -104.809968], controls=(WidgetControl(options=['position'], widget=HBox(children=(Toggl…"
      ]
     },
     "metadata": {},
     "output_type": "display_data"
    }
   ],
   "source": [
    "# Clip the linearFit to the roi\n",
    "clipped_linearFit = linearFit.clip(roi)\n",
    "\n",
    "# Display the results\n",
    "Map.addLayer(clipped_linearFit,\n",
    "             {'min': 0, 'max': [-0.9, 8e-5, 1], 'bands': ['scale', 'offset', 'scale']}, 'fit')\n",
    "\n",
    "# Add legend to map\n",
    "legend_keys = ['High Positive Urban Trend', 'Positive Urban Trend',\n",
    "               'Nearly No Urban Trend', 'Negative Urban Trend']\n",
    "legend_colors = ['#0000FF', '#01FFFF', '#00FF1F', '#FFFF02']\n",
    "\n",
    "Map.add_legend(legend_keys=legend_keys,\n",
    "               legend_colors=legend_colors, position='bottomleft')\n",
    "\n",
    "Map"
   ]
  },
  {
   "cell_type": "markdown",
   "metadata": {},
   "source": [
    "# Interpret the Results"
   ]
  },
  {
   "cell_type": "code",
   "execution_count": 8,
   "metadata": {},
   "outputs": [
    {
     "name": "stdout",
     "output_type": "stream",
     "text": [
      "Generating URL ...\n",
      "Downloading data from https://earthengine.googleapis.com/v1alpha/projects/earthengine-legacy/thumbnails/923ea900b09ffaa2a0d7b2a0265c36f9-5cb9e518f2e1c6ee1d2bd74913ea18ae:getPixels\n",
      "Please wait ...\n",
      "Data downloaded to /Users/richardudell/Downloads\n"
     ]
    }
   ],
   "source": [
    "out_dir = os.path.join(et.io.HOME, 'Downloads')\n",
    "filename = os.path.join(out_dir, 'linearFit.tif')\n",
    "\n",
    "\n",
    "# Exports two files - one file per band ('filename.bandname.tif')\n",
    "geemap.ee_export_image(clipped_linearFit, filename=filename, scale=90, region=roi, file_per_band=True)"
   ]
  },
  {
   "cell_type": "code",
   "execution_count": 9,
   "metadata": {
    "scrolled": true
   },
   "outputs": [],
   "source": [
    "# Confirm that linearFit.scale.tif appears in your Downloads folder\n",
    "scale_path = os.path.join(et.io.HOME, 'Downloads', 'linearFit.scale.tif')\n",
    "\n",
    "# Import scale (slope values for each pixel in the ROI)\n",
    "with rio.open(scale_path) as src:\n",
    "    scale_tif = src.read()"
   ]
  },
  {
   "cell_type": "code",
   "execution_count": 10,
   "metadata": {},
   "outputs": [
    {
     "name": "stdout",
     "output_type": "stream",
     "text": [
      "Number of pixels above zero:  21039 \n",
      "Below zero:  145896 \n",
      "At zero:  0\n"
     ]
    }
   ],
   "source": [
    "# Calculate the total number of pixels in the dataset\n",
    "total = scale_tif < np.inf\n",
    "\n",
    "# Interpret the slope values as either trending positive or negative (above\n",
    "# or below zero)\n",
    "above = scale_tif < 0\n",
    "below = scale_tif > 0\n",
    "\n",
    "# Confirm that there are no values at zero\n",
    "at = scale_tif == 0\n",
    "\n",
    "print('Number of pixels above zero: ', above.sum(),\n",
    "      '\\nBelow zero: ', below.sum(), \n",
    "      '\\nAt zero: ', at.sum())"
   ]
  },
  {
   "cell_type": "code",
   "execution_count": 11,
   "metadata": {},
   "outputs": [],
   "source": [
    "# Calculate the total area of the ROI\n",
    "area_per_pixel = clipped_linearFit.pixelArea()\n",
    "total_area_roi = area_per_pixel.reduceRegion(ee.Reducer.sum(), roi, 30)\n",
    "total_area_roi = total_area_roi.getInfo()['area']"
   ]
  },
  {
   "cell_type": "code",
   "execution_count": 13,
   "metadata": {},
   "outputs": [
    {
     "name": "stdout",
     "output_type": "stream",
     "text": [
      "0.13 % of the pixels in the ROI are trending towards urban.\n",
      "This is the same as:  104614003  square meters, or\n",
      "40.39150716  square miles.\n"
     ]
    }
   ],
   "source": [
    "# Calculate the percent of pixels trending towards urban\n",
    "trending_urban_perc = round(above.sum()/total.sum(), 2)\n",
    "\n",
    "print(trending_urban_perc, '% of the pixels in the ROI are trending towards urban.')\n",
    "print('This is the same as: ', int(trending_urban_perc * total_area_roi), ' square meters, or', )\n",
    "print(round((trending_urban_perc * total_area_roi)/2.59e6, 8), ' square miles.')"
   ]
  },
  {
   "cell_type": "code",
   "execution_count": null,
   "metadata": {},
   "outputs": [],
   "source": []
  }
 ],
 "metadata": {
  "kernelspec": {
   "display_name": "Python 3",
   "language": "python",
   "name": "python3"
  },
  "language_info": {
   "codemirror_mode": {
    "name": "ipython",
    "version": 3
   },
   "file_extension": ".py",
   "mimetype": "text/x-python",
   "name": "python",
   "nbconvert_exporter": "python",
   "pygments_lexer": "ipython3",
   "version": "3.6.10"
  }
 },
 "nbformat": 4,
 "nbformat_minor": 4
}
