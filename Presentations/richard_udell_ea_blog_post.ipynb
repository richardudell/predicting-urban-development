{
 "cells": [
  {
   "cell_type": "markdown",
   "metadata": {},
   "source": [
    "## Richard Udell, Blog Post Submission"
   ]
  },
  {
   "cell_type": "markdown",
   "metadata": {},
   "source": [
    "My first encounter with Denver International Airport (DIA) was at a reservoir 20 miles south of the airport.  It had been a long work day of loud construction equipment and strong Colorado sun, but I was still on the job site after all the machine operators and foremen had left. \n",
    "\n",
    "I drove my work truck around newly excavated house foundations to the edge of the reservoir and marveled at the beautiful sky reflecting off the water.  To the east lay endless prairie - the construction workers joke that this job site is on the edge of Kansas.  To the west stood newly constructed homes framed by the distant Rocky Mountain skyline.  It was almost silent because the birds had been driven away with the removal of all “strippings” (organic material - soil and grasses).  Then I heard a plane pass by overhead and looked up to notice there were more than a dozen planes spread across the sky.  For some time I watched as dozens of planes approached or departed DIA.  "
   ]
  },
  {
   "cell_type": "markdown",
   "metadata": {},
   "source": [
    "![Annotated view form Southshore, Aurora, CO](southshore_annotated.jpeg)\n",
    "\n",
    "![Region of Interest - Area East of Denver, mostly in Aurora](DIA_ROI.jpg)\n",
    "\n",
    "*If the image fails to load click on this link:* https://figshare.com/articles/southshore_annotated_jpeg/12252338"
   ]
  },
  {
   "cell_type": "markdown",
   "metadata": {},
   "source": [
    " DIA is the 20th busiest airport in the world - 5th busiest in the country.  DIA construction, completed in 1995, involved a 33% expansion in the area of the City of Denver.  At 53 sq. miles, DIA is the second largest airport landowner in the world and serves over 58 million passengers annually.  When DIA was constructed, it was considered to be in the middle of nowhere.  However, the fast growing cities of Aurora and Denver have quickly filled.  I had never seen so much land and so many construction sites until I started working as a geologist for a large 50 home construction at Aurora Resvoir, 20 miles south of DIA.  "
   ]
  },
  {
   "cell_type": "code",
   "execution_count": 1,
   "metadata": {},
   "outputs": [
    {
     "data": {
      "application/vnd.jupyter.widget-view+json": {
       "model_id": "d46a0911e78d4c4f809d7a81ac03b7a7",
       "version_major": 2,
       "version_minor": 0
      },
      "text/plain": [
       "Map(center=[39.755567, -104.63759], controls=(WidgetControl(options=['position'], widget=HBox(children=(Toggle…"
      ]
     },
     "metadata": {},
     "output_type": "display_data"
    }
   ],
   "source": [
    "## Define study area\n",
    "import ee\n",
    "import geemap\n",
    "Map = geemap.Map()\n",
    "\n",
    "\n",
    "roi = ee.Geometry.Polygon([[[-105.03759, 39.430452],\n",
    "   [-105.03759, 40.055567],\n",
    "   [-104.367344, 40.055567],\n",
    "   [-104.367344, 39.430452],\n",
    "   [-105.03759, 39.430452]]])\n",
    "\n",
    "Map.addLayer(roi)\n",
    "Map.setCenter(-104.63759, 39.755567, 9)\n",
    "\n",
    "Map"
   ]
  },
  {
   "cell_type": "markdown",
   "metadata": {},
   "source": [
    "**Caption**: This figure outlines the study area.  Aurora Resevoir is in the southeastern Aurora and DIA is northeast of Denver, just north of Watkins.  "
   ]
  },
  {
   "cell_type": "markdown",
   "metadata": {},
   "source": [
    "#### High level overview of analysis:\n",
    "My analysis has not yet been completed.  So far, I have used K-Means Clustering (an unsupervised Machine Learning method) to classify a single Landsat 8 scene from 2016.  This scene covers the developed area south of DIA.  This clustered landsat scene has been compared with the NLCD product from the same year.  \n",
    "The next steps in my analysis will be to calculate development trends on the landscape via linear regression with time series landsat imagery as input.  Landscape classification will remain simple: developed or not developed.  Landscape classification will be predicted for 2016.  The predicted landscape classifications will be verified with NLCD data and with the k-means clustering map.  Accuracy scores will be assigned to each validation method.  "
   ]
  },
  {
   "cell_type": "markdown",
   "metadata": {},
   "source": []
  },
  {
   "cell_type": "code",
   "execution_count": null,
   "metadata": {},
   "outputs": [],
   "source": []
  }
 ],
 "metadata": {
  "kernelspec": {
   "display_name": "Python 3",
   "language": "python",
   "name": "python3"
  },
  "language_info": {
   "codemirror_mode": {
    "name": "ipython",
    "version": 3
   },
   "file_extension": ".py",
   "mimetype": "text/x-python",
   "name": "python",
   "nbconvert_exporter": "python",
   "pygments_lexer": "ipython3",
   "version": "3.7.6"
  }
 },
 "nbformat": 4,
 "nbformat_minor": 4
}
