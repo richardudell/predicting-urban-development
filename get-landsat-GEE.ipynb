{
 "cells": [
  {
   "cell_type": "code",
   "execution_count": 1,
   "metadata": {},
   "outputs": [],
   "source": [
    "# Import necessary packages\n",
    "import ee\n",
    "import geemap"
   ]
  },
  {
   "cell_type": "markdown",
   "metadata": {},
   "source": [
    "Helpful resource: https://gis.stackexchange.com/questions/326131/error-in-export-image-from-google-earth-engine-from-python-api"
   ]
  },
  {
   "cell_type": "code",
   "execution_count": 2,
   "metadata": {
    "scrolled": true
   },
   "outputs": [
    {
     "data": {
      "application/vnd.jupyter.widget-view+json": {
       "model_id": "5f8b2ef3b5664c68afd8ae1f9025b632",
       "version_major": 2,
       "version_minor": 0
      },
      "text/plain": [
       "Map(center=[40, -100], controls=(WidgetControl(options=['position'], widget=HBox(children=(ToggleButton(value=…"
      ]
     },
     "metadata": {},
     "output_type": "display_data"
    }
   ],
   "source": [
    "# Initiate interactive map\n",
    "Map = geemap.Map(center=(40, -100), zoom=4)\n",
    "Map.add_basemap('HYBRID') # Add Google Map\n",
    "Map"
   ]
  },
  {
   "cell_type": "code",
   "execution_count": 3,
   "metadata": {},
   "outputs": [],
   "source": [
    "# If you want to define a different ROI with inspector tool\n",
    "# roi = ee.FeatureCollection(Map.draw_features)\n",
    "\n",
    "# Define ROI (this should be updated)\n",
    "roi = ee.Geometry.Polygon([[[-104.617064, 39.597157],\n",
    "                            [-104.617064, 39.747256],\n",
    "                            [-104.573116, 39.835893],\n",
    "                            [-104.504448, 40.000202],\n",
    "                            [-104.644286, 40.056921],\n",
    "                            [-104.858778, 40.008618],\n",
    "                            [-104.993368, 39.785257],\n",
    "                            [-104.957436, 39.66901],\n",
    "                            [-104.845047, 39.618318],\n",
    "                            [-104.836804, 39.61197],\n",
    "                            [-104.617064, 39.597157]]])\n",
    "\n",
    "Map.addLayer(roi)"
   ]
  },
  {
   "cell_type": "markdown",
   "metadata": {},
   "source": [
    "#### Get Landsat8 Spectral Unmix ee.Image object with an roi "
   ]
  },
  {
   "cell_type": "code",
   "execution_count": 28,
   "metadata": {},
   "outputs": [],
   "source": [
    "# Function to get cloud free summer composite for given year\n",
    "def ppUnmix(year, ROI):\n",
    "    \"\"\"pp Unmix will Pre Process landsat and apply spectral unmixing to produce fractions of % urban.\"\"\"\n",
    "    # Get raw Landsat8 data input for simple composite\n",
    "    if year >= 2013:\n",
    "        landsatCollection = ee.ImageCollection('LANDSAT/LC08/C01/T1')\n",
    "\n",
    "    elif 1995 <= year < 2013:\n",
    "        landsatCollection = ee.ImageCollection('LANDSAT/LT05/C01/T1_TOA')\n",
    "        print('Function does not work with Landsat 5 yet (before 2013)')\n",
    "\n",
    "    else:\n",
    "        print('Year is out of range: 1995 - 2015.  This function will fail.')\n",
    "\n",
    "    # Generate date strings for .filterDate()\n",
    "    d1, d2 = str(year)+'-07-01', str(year)+'-09-30'\n",
    "\n",
    "    # Filter Landsat8 collection by date and by ROI\n",
    "    collection = landsatCollection.filterDate(d1, d2).filterBounds(ROI)\n",
    "\n",
    "    # Create cloud-free composite with default params\n",
    "    composite = ee.Algorithms.Landsat.simpleComposite(collection)\n",
    "\n",
    "    image = composite.clip(ROI)\n",
    "\n",
    "    # Select bands 1-7 and clip to ROI\n",
    "    bands = ['B1', 'B2', 'B3', 'B4', 'B5', 'B6', 'B7']\n",
    "    image = image.select(bands)\n",
    "\n",
    "    # End-members from GEE unmix() example script here:\n",
    "    # https://developers.google.com/earth-engine/image_transforms\n",
    "    urban = [88, 42, 48, 38, 86, 115, 59]  # band_0\n",
    "    veg = [50, 21, 20, 35, 50, 110, 23]  # band_1\n",
    "    water = [51, 20, 14, 9, 7, 116, 4]  # band_2\n",
    "\n",
    "    # Calculate per-pixel fractions at each pixel of each of the end-members\n",
    "    fractions = image.unmix([urban, veg, water])\n",
    "\n",
    "    return fractions"
   ]
  },
  {
   "cell_type": "code",
   "execution_count": 23,
   "metadata": {},
   "outputs": [
    {
     "name": "stdout",
     "output_type": "stream",
     "text": [
      "Function does not work with Landsat 5 yet (before 2013)\n"
     ]
    }
   ],
   "source": [
    "xx = cloudFreeComposite(1995, roi)\n",
    "yy = cloudFreeComposite(2013, roi)"
   ]
  },
  {
   "cell_type": "code",
   "execution_count": 30,
   "metadata": {},
   "outputs": [],
   "source": [
    "dict = {}\n",
    "for i in range(2013, 2016):\n",
    "    dict[str(i)] = ppUnmix(year=i, ROI=roi)\n",
    "    "
   ]
  },
  {
   "cell_type": "code",
   "execution_count": 16,
   "metadata": {},
   "outputs": [
    {
     "data": {
      "application/vnd.jupyter.widget-view+json": {
       "model_id": "5f8b2ef3b5664c68afd8ae1f9025b632",
       "version_major": 2,
       "version_minor": 0
      },
      "text/plain": [
       "Map(center=[39.87865414303291, -104.6825408935547], controls=(WidgetControl(options=['position'], widget=HBox(…"
      ]
     },
     "metadata": {},
     "output_type": "display_data"
    }
   ],
   "source": [
    "Map.addLayer(yy, {}, 'fractions')\n",
    "Map"
   ]
  },
  {
   "cell_type": "code",
   "execution_count": 17,
   "metadata": {},
   "outputs": [
    {
     "data": {
      "text/plain": [
       "{'type': 'Image',\n",
       " 'bands': [{'id': 'band_0',\n",
       "   'data_type': {'type': 'PixelType', 'precision': 'double'},\n",
       "   'dimensions': [1, 2],\n",
       "   'origin': [-105, 39],\n",
       "   'crs': 'EPSG:4326',\n",
       "   'crs_transform': [1, 0, 0, 0, 1, 0]},\n",
       "  {'id': 'band_1',\n",
       "   'data_type': {'type': 'PixelType', 'precision': 'double'},\n",
       "   'dimensions': [1, 2],\n",
       "   'origin': [-105, 39],\n",
       "   'crs': 'EPSG:4326',\n",
       "   'crs_transform': [1, 0, 0, 0, 1, 0]},\n",
       "  {'id': 'band_2',\n",
       "   'data_type': {'type': 'PixelType', 'precision': 'double'},\n",
       "   'dimensions': [1, 2],\n",
       "   'origin': [-105, 39],\n",
       "   'crs': 'EPSG:4326',\n",
       "   'crs_transform': [1, 0, 0, 0, 1, 0]}]}"
      ]
     },
     "execution_count": 17,
     "metadata": {},
     "output_type": "execute_result"
    }
   ],
   "source": [
    "yy.getInfo()"
   ]
  },
  {
   "cell_type": "markdown",
   "metadata": {},
   "source": [
    "### Example from docs: unmix\n",
    "* this is trying to solve the issue that arises when I try and visualize the spectrally unmixed Landsat 5 ee.Image object.\n",
    "* I should try and visualize the RGB first.\n",
    "* error code: \n",
    "\n",
    "EEException: ImageCollection.reduce: Error in map(ID=LT05_033032_20100716):\n",
    "Landsat.TOA: Band 'B1' is Type<Float>, expected Type<Short<0, 255>>."
   ]
  },
  {
   "cell_type": "code",
   "execution_count": 21,
   "metadata": {},
   "outputs": [
    {
     "ename": "EEException",
     "evalue": "ImageCollection.reduce: Error in map(ID=LT05_033032_20100716):\nLandsat.TOA: Band 'B1' is Type<Float>, expected Type<Short<0, 255>>.",
     "output_type": "error",
     "traceback": [
      "\u001b[0;31m---------------------------------------------------------------------------\u001b[0m",
      "\u001b[0;31mHttpError\u001b[0m                                 Traceback (most recent call last)",
      "\u001b[0;32m~/miniconda3/envs/ea-python-pysptools-ee/lib/python3.6/site-packages/ee/data.py\u001b[0m in \u001b[0;36m_execute_cloud_call\u001b[0;34m(call, num_retries)\u001b[0m\n\u001b[1;32m    337\u001b[0m   \u001b[0;32mtry\u001b[0m\u001b[0;34m:\u001b[0m\u001b[0;34m\u001b[0m\u001b[0;34m\u001b[0m\u001b[0m\n\u001b[0;32m--> 338\u001b[0;31m     \u001b[0;32mreturn\u001b[0m \u001b[0mcall\u001b[0m\u001b[0;34m.\u001b[0m\u001b[0mexecute\u001b[0m\u001b[0;34m(\u001b[0m\u001b[0mnum_retries\u001b[0m\u001b[0;34m=\u001b[0m\u001b[0mnum_retries\u001b[0m\u001b[0;34m)\u001b[0m\u001b[0;34m\u001b[0m\u001b[0;34m\u001b[0m\u001b[0m\n\u001b[0m\u001b[1;32m    339\u001b[0m   \u001b[0;32mexcept\u001b[0m \u001b[0mgoogleapiclient\u001b[0m\u001b[0;34m.\u001b[0m\u001b[0merrors\u001b[0m\u001b[0;34m.\u001b[0m\u001b[0mHttpError\u001b[0m \u001b[0;32mas\u001b[0m \u001b[0me\u001b[0m\u001b[0;34m:\u001b[0m\u001b[0;34m\u001b[0m\u001b[0;34m\u001b[0m\u001b[0m\n",
      "\u001b[0;32m~/miniconda3/envs/ea-python-pysptools-ee/lib/python3.6/site-packages/googleapiclient/_helpers.py\u001b[0m in \u001b[0;36mpositional_wrapper\u001b[0;34m(*args, **kwargs)\u001b[0m\n\u001b[1;32m    133\u001b[0m                     \u001b[0mlogger\u001b[0m\u001b[0;34m.\u001b[0m\u001b[0mwarning\u001b[0m\u001b[0;34m(\u001b[0m\u001b[0mmessage\u001b[0m\u001b[0;34m)\u001b[0m\u001b[0;34m\u001b[0m\u001b[0;34m\u001b[0m\u001b[0m\n\u001b[0;32m--> 134\u001b[0;31m             \u001b[0;32mreturn\u001b[0m \u001b[0mwrapped\u001b[0m\u001b[0;34m(\u001b[0m\u001b[0;34m*\u001b[0m\u001b[0margs\u001b[0m\u001b[0;34m,\u001b[0m \u001b[0;34m**\u001b[0m\u001b[0mkwargs\u001b[0m\u001b[0;34m)\u001b[0m\u001b[0;34m\u001b[0m\u001b[0;34m\u001b[0m\u001b[0m\n\u001b[0m\u001b[1;32m    135\u001b[0m \u001b[0;34m\u001b[0m\u001b[0m\n",
      "\u001b[0;32m~/miniconda3/envs/ea-python-pysptools-ee/lib/python3.6/site-packages/googleapiclient/http.py\u001b[0m in \u001b[0;36mexecute\u001b[0;34m(self, http, num_retries)\u001b[0m\n\u001b[1;32m    906\u001b[0m         \u001b[0;32mif\u001b[0m \u001b[0mresp\u001b[0m\u001b[0;34m.\u001b[0m\u001b[0mstatus\u001b[0m \u001b[0;34m>=\u001b[0m \u001b[0;36m300\u001b[0m\u001b[0;34m:\u001b[0m\u001b[0;34m\u001b[0m\u001b[0;34m\u001b[0m\u001b[0m\n\u001b[0;32m--> 907\u001b[0;31m             \u001b[0;32mraise\u001b[0m \u001b[0mHttpError\u001b[0m\u001b[0;34m(\u001b[0m\u001b[0mresp\u001b[0m\u001b[0;34m,\u001b[0m \u001b[0mcontent\u001b[0m\u001b[0;34m,\u001b[0m \u001b[0muri\u001b[0m\u001b[0;34m=\u001b[0m\u001b[0mself\u001b[0m\u001b[0;34m.\u001b[0m\u001b[0muri\u001b[0m\u001b[0;34m)\u001b[0m\u001b[0;34m\u001b[0m\u001b[0;34m\u001b[0m\u001b[0m\n\u001b[0m\u001b[1;32m    908\u001b[0m         \u001b[0;32mreturn\u001b[0m \u001b[0mself\u001b[0m\u001b[0;34m.\u001b[0m\u001b[0mpostproc\u001b[0m\u001b[0;34m(\u001b[0m\u001b[0mresp\u001b[0m\u001b[0;34m,\u001b[0m \u001b[0mcontent\u001b[0m\u001b[0;34m)\u001b[0m\u001b[0;34m\u001b[0m\u001b[0;34m\u001b[0m\u001b[0m\n",
      "\u001b[0;31mHttpError\u001b[0m: <HttpError 400 when requesting https://earthengine.googleapis.com/v1alpha/projects/earthengine-legacy/maps?fields=name&alt=json returned \"ImageCollection.reduce: Error in map(ID=LT05_033032_20100716):\nLandsat.TOA: Band 'B1' is Type<Float>, expected Type<Short<0, 255>>.\">",
      "\nDuring handling of the above exception, another exception occurred:\n",
      "\u001b[0;31mEEException\u001b[0m                               Traceback (most recent call last)",
      "\u001b[0;32m<ipython-input-21-f8fefbcb1910>\u001b[0m in \u001b[0;36m<module>\u001b[0;34m\u001b[0m\n\u001b[1;32m      8\u001b[0m \u001b[0;34m\u001b[0m\u001b[0m\n\u001b[1;32m      9\u001b[0m \u001b[0;31m# image = ee.Image('LANDSAT/LT05/C01/T1/LT05_044034_20080214').select(bands)\u001b[0m\u001b[0;34m\u001b[0m\u001b[0;34m\u001b[0m\u001b[0;34m\u001b[0m\u001b[0m\n\u001b[0;32m---> 10\u001b[0;31m \u001b[0mMap\u001b[0m\u001b[0;34m.\u001b[0m\u001b[0maddLayer\u001b[0m\u001b[0;34m(\u001b[0m\u001b[0mimage\u001b[0m\u001b[0;34m,\u001b[0m \u001b[0;34m{\u001b[0m\u001b[0;34m'bands'\u001b[0m\u001b[0;34m:\u001b[0m \u001b[0;34m[\u001b[0m\u001b[0;34m'B4'\u001b[0m\u001b[0;34m,\u001b[0m \u001b[0;34m'B3'\u001b[0m\u001b[0;34m,\u001b[0m \u001b[0;34m'B2'\u001b[0m\u001b[0;34m]\u001b[0m\u001b[0;34m,\u001b[0m \u001b[0;34m'min'\u001b[0m\u001b[0;34m:\u001b[0m \u001b[0;36m0\u001b[0m\u001b[0;34m,\u001b[0m \u001b[0;34m'max'\u001b[0m\u001b[0;34m:\u001b[0m \u001b[0;36m128\u001b[0m\u001b[0;34m}\u001b[0m\u001b[0;34m,\u001b[0m \u001b[0;34m'image'\u001b[0m\u001b[0;34m)\u001b[0m\u001b[0;34m\u001b[0m\u001b[0;34m\u001b[0m\u001b[0m\n\u001b[0m\u001b[1;32m     11\u001b[0m \u001b[0;34m\u001b[0m\u001b[0m\n\u001b[1;32m     12\u001b[0m \u001b[0;31m# Define spectral endmembers.\u001b[0m\u001b[0;34m\u001b[0m\u001b[0;34m\u001b[0m\u001b[0;34m\u001b[0m\u001b[0m\n",
      "\u001b[0;32m~/miniconda3/envs/ea-python-pysptools-ee/lib/python3.6/site-packages/geemap/geemap.py\u001b[0m in \u001b[0;36madd_ee_layer\u001b[0;34m(self, ee_object, vis_params, name, shown, opacity)\u001b[0m\n\u001b[1;32m    625\u001b[0m             \u001b[0mimage\u001b[0m \u001b[0;34m=\u001b[0m \u001b[0mee_object\u001b[0m\u001b[0;34m.\u001b[0m\u001b[0mmosaic\u001b[0m\u001b[0;34m(\u001b[0m\u001b[0;34m)\u001b[0m\u001b[0;34m\u001b[0m\u001b[0;34m\u001b[0m\u001b[0m\n\u001b[1;32m    626\u001b[0m \u001b[0;34m\u001b[0m\u001b[0m\n\u001b[0;32m--> 627\u001b[0;31m         \u001b[0mmap_id_dict\u001b[0m \u001b[0;34m=\u001b[0m \u001b[0mee\u001b[0m\u001b[0;34m.\u001b[0m\u001b[0mImage\u001b[0m\u001b[0;34m(\u001b[0m\u001b[0mimage\u001b[0m\u001b[0;34m)\u001b[0m\u001b[0;34m.\u001b[0m\u001b[0mgetMapId\u001b[0m\u001b[0;34m(\u001b[0m\u001b[0mvis_params\u001b[0m\u001b[0;34m)\u001b[0m\u001b[0;34m\u001b[0m\u001b[0;34m\u001b[0m\u001b[0m\n\u001b[0m\u001b[1;32m    628\u001b[0m         tile_layer = ipyleaflet.TileLayer(\n\u001b[1;32m    629\u001b[0m             \u001b[0murl\u001b[0m\u001b[0;34m=\u001b[0m\u001b[0mmap_id_dict\u001b[0m\u001b[0;34m[\u001b[0m\u001b[0;34m'tile_fetcher'\u001b[0m\u001b[0;34m]\u001b[0m\u001b[0;34m.\u001b[0m\u001b[0murl_format\u001b[0m\u001b[0;34m,\u001b[0m\u001b[0;34m\u001b[0m\u001b[0;34m\u001b[0m\u001b[0m\n",
      "\u001b[0;32m~/miniconda3/envs/ea-python-pysptools-ee/lib/python3.6/site-packages/ee/image.py\u001b[0m in \u001b[0;36mgetMapId\u001b[0;34m(self, vis_params)\u001b[0m\n\u001b[1;32m    129\u001b[0m     \u001b[0mvis_image\u001b[0m\u001b[0;34m,\u001b[0m \u001b[0mrequest\u001b[0m \u001b[0;34m=\u001b[0m \u001b[0mself\u001b[0m\u001b[0;34m.\u001b[0m\u001b[0m_apply_visualization\u001b[0m\u001b[0;34m(\u001b[0m\u001b[0mvis_params\u001b[0m\u001b[0;34m)\u001b[0m\u001b[0;34m\u001b[0m\u001b[0;34m\u001b[0m\u001b[0m\n\u001b[1;32m    130\u001b[0m     \u001b[0mrequest\u001b[0m\u001b[0;34m[\u001b[0m\u001b[0;34m'image'\u001b[0m\u001b[0;34m]\u001b[0m \u001b[0;34m=\u001b[0m \u001b[0mvis_image\u001b[0m\u001b[0;34m\u001b[0m\u001b[0;34m\u001b[0m\u001b[0m\n\u001b[0;32m--> 131\u001b[0;31m     \u001b[0mresponse\u001b[0m \u001b[0;34m=\u001b[0m \u001b[0mdata\u001b[0m\u001b[0;34m.\u001b[0m\u001b[0mgetMapId\u001b[0m\u001b[0;34m(\u001b[0m\u001b[0mrequest\u001b[0m\u001b[0;34m)\u001b[0m\u001b[0;34m\u001b[0m\u001b[0;34m\u001b[0m\u001b[0m\n\u001b[0m\u001b[1;32m    132\u001b[0m     \u001b[0mresponse\u001b[0m\u001b[0;34m[\u001b[0m\u001b[0;34m'image'\u001b[0m\u001b[0;34m]\u001b[0m \u001b[0;34m=\u001b[0m \u001b[0mself\u001b[0m\u001b[0;34m\u001b[0m\u001b[0;34m\u001b[0m\u001b[0m\n\u001b[1;32m    133\u001b[0m     \u001b[0;32mreturn\u001b[0m \u001b[0mresponse\u001b[0m\u001b[0;34m\u001b[0m\u001b[0;34m\u001b[0m\u001b[0m\n",
      "\u001b[0;32m~/miniconda3/envs/ea-python-pysptools-ee/lib/python3.6/site-packages/ee/data.py\u001b[0m in \u001b[0;36mgetMapId\u001b[0;34m(params)\u001b[0m\n\u001b[1;32m    589\u001b[0m         \u001b[0mparent\u001b[0m\u001b[0;34m=\u001b[0m\u001b[0m_get_projects_path\u001b[0m\u001b[0;34m(\u001b[0m\u001b[0;34m)\u001b[0m\u001b[0;34m,\u001b[0m\u001b[0;34m\u001b[0m\u001b[0;34m\u001b[0m\u001b[0m\n\u001b[1;32m    590\u001b[0m         \u001b[0mfields\u001b[0m\u001b[0;34m=\u001b[0m\u001b[0;34m'name'\u001b[0m\u001b[0;34m,\u001b[0m\u001b[0;34m\u001b[0m\u001b[0;34m\u001b[0m\u001b[0m\n\u001b[0;32m--> 591\u001b[0;31m         body=request))\n\u001b[0m\u001b[1;32m    592\u001b[0m     \u001b[0mmap_name\u001b[0m \u001b[0;34m=\u001b[0m \u001b[0mresult\u001b[0m\u001b[0;34m[\u001b[0m\u001b[0;34m'name'\u001b[0m\u001b[0;34m]\u001b[0m\u001b[0;34m\u001b[0m\u001b[0;34m\u001b[0m\u001b[0m\n\u001b[1;32m    593\u001b[0m     url_format = '%s/%s/%s/tiles/{z}/{x}/{y}' % (\n",
      "\u001b[0;32m~/miniconda3/envs/ea-python-pysptools-ee/lib/python3.6/site-packages/ee/data.py\u001b[0m in \u001b[0;36m_execute_cloud_call\u001b[0;34m(call, num_retries)\u001b[0m\n\u001b[1;32m    338\u001b[0m     \u001b[0;32mreturn\u001b[0m \u001b[0mcall\u001b[0m\u001b[0;34m.\u001b[0m\u001b[0mexecute\u001b[0m\u001b[0;34m(\u001b[0m\u001b[0mnum_retries\u001b[0m\u001b[0;34m=\u001b[0m\u001b[0mnum_retries\u001b[0m\u001b[0;34m)\u001b[0m\u001b[0;34m\u001b[0m\u001b[0;34m\u001b[0m\u001b[0m\n\u001b[1;32m    339\u001b[0m   \u001b[0;32mexcept\u001b[0m \u001b[0mgoogleapiclient\u001b[0m\u001b[0;34m.\u001b[0m\u001b[0merrors\u001b[0m\u001b[0;34m.\u001b[0m\u001b[0mHttpError\u001b[0m \u001b[0;32mas\u001b[0m \u001b[0me\u001b[0m\u001b[0;34m:\u001b[0m\u001b[0;34m\u001b[0m\u001b[0;34m\u001b[0m\u001b[0m\n\u001b[0;32m--> 340\u001b[0;31m     \u001b[0;32mraise\u001b[0m \u001b[0m_translate_cloud_exception\u001b[0m\u001b[0;34m(\u001b[0m\u001b[0me\u001b[0m\u001b[0;34m)\u001b[0m\u001b[0;34m\u001b[0m\u001b[0;34m\u001b[0m\u001b[0m\n\u001b[0m\u001b[1;32m    341\u001b[0m \u001b[0;34m\u001b[0m\u001b[0m\n\u001b[1;32m    342\u001b[0m \u001b[0;34m\u001b[0m\u001b[0m\n",
      "\u001b[0;31mEEException\u001b[0m: ImageCollection.reduce: Error in map(ID=LT05_033032_20100716):\nLandsat.TOA: Band 'B1' is Type<Float>, expected Type<Short<0, 255>>."
     ]
    }
   ],
   "source": [
    "# Load a Landsat 5 image and select the bands we want to unmix.\n",
    "bands = ['B1', 'B2', 'B3', 'B4', 'B5', 'B6', 'B7']\n",
    "l5 = ee.ImageCollection('LANDSAT/LT05/C01/T1_TOA').filterDate('2010-07-01','2010-09-30').filterBounds(roi)\n",
    "\n",
    "composite = ee.Algorithms.Landsat.simpleComposite(l5)\n",
    "\n",
    "image = composite.select(bands)#.clip(roi)\n",
    "\n",
    "# image = ee.Image('LANDSAT/LT05/C01/T1/LT05_044034_20080214').select(bands)\n",
    "Map.addLayer(image, {'bands': ['B4', 'B3', 'B2'], 'min': 0, 'max': 128}, 'image')\n",
    "\n",
    "# Define spectral endmembers.\n",
    "urban = [88, 42, 48, 38, 86, 115, 59]\n",
    "veg = [50, 21, 20, 35, 50, 110, 23]\n",
    "water = [51, 20, 14, 9, 7, 116, 4]\n",
    "\n",
    "# Unmix the image.\n",
    "fractions = image.unmix([urban, veg, water])\n",
    "Map.addLayer(fractions, {}, 'unmixed')"
   ]
  },
  {
   "cell_type": "code",
   "execution_count": null,
   "metadata": {},
   "outputs": [],
   "source": [
    "# Get  L8 image collection 2013\n",
    "l813 = ee.ImageCollection('LANDSAT/LC08/C01/T1').filterDate('2013-07-01','2013-09-30').filterBounds(roi)"
   ]
  },
  {
   "cell_type": "markdown",
   "metadata": {},
   "source": [
    "### Next up:\n",
    "* learn how to clip to ROI\n",
    "    * important to make smaller before exporting\n",
    "* export fractions tiff (and rgb??)\n",
    "    * once exported fix the fractions to not include negatives\n",
    "        * this is because built-in unmix() method does not use the FCLS calculation\n",
    "* understand how to export for each year (Landsat 5 and Landsat 8, 1995 to 2015)\n"
   ]
  },
  {
   "cell_type": "markdown",
   "metadata": {},
   "source": [
    "### Function to get a Landsat8 ee.Image object for the given ROI, cloud free and clipped"
   ]
  },
  {
   "cell_type": "code",
   "execution_count": null,
   "metadata": {},
   "outputs": [],
   "source": [
    "# Get collection of Landsat scenes for the dates and region you wish\n",
    "def getLandsat8(year, ROI):\n",
    "    # Get raw Landsat8 data input for simple composite\n",
    "    l8 = ee.ImageCollection('LANDSAT/LC08/C01/T1')\n",
    "    \n",
    "    # Generate date strings for .filterDate()\n",
    "    d1, d2 = str(year)+'-07-01', str(year)+'-09-30'\n",
    "\n",
    "    # Filter Landsat8 collection by date and by ROI\n",
    "    collection = l8.filterDate(d1, d2).filterBounds(ROI)\n",
    " \n",
    "    # Create cloud-free composite with default params\n",
    "    composite = ee.Algorithms.Landsat.simpleComposite(collection)\n",
    "    \n",
    "    # Clip to area (provided ROI)\n",
    "    # Returns a single image, not a collection\n",
    "    # because this function is flawed\n",
    "    return composite.clip(ROI)\n"
   ]
  },
  {
   "cell_type": "code",
   "execution_count": null,
   "metadata": {},
   "outputs": [],
   "source": [
    "for i in range(2013, 2014):\n",
    "    image = getLandsat8(year=i, ROI=roi)"
   ]
  },
  {
   "cell_type": "markdown",
   "metadata": {},
   "source": [
    "## Export with built-in Export.todrive functions\n",
    "* Successful!  \n",
    "* Needs some parameter tuning.  Specifically the folder name that is generated and the file name.\n",
    "* **See for solutions:** https://gis.stackexchange.com/questions/326131/error-in-export-image-from-google-earth-engine-from-python-api"
   ]
  },
  {
   "cell_type": "code",
   "execution_count": 39,
   "metadata": {},
   "outputs": [],
   "source": [
    "task_config = {\n",
    "    'fileNamePrefix': 'fractions_2013',\n",
    "    'crs': 'EPSG:4326',\n",
    "    'scale': 500,\n",
    "    'maxPixels': 1000000000000,\n",
    "    'fileFormat': 'GeoTIFF',\n",
    "    'skipEmptyTiles': True,\n",
    "    'region': roi,\n",
    "    'folder': 'myfolder'\n",
    "}\n",
    "\n",
    "task = ee.batch.Export.image.toDrive(dict['2013'], str('fractions_2013'), **task_config)\n",
    "task.start()"
   ]
  },
  {
   "cell_type": "code",
   "execution_count": 40,
   "metadata": {},
   "outputs": [],
   "source": [
    "task_config = {\n",
    "    'fileNamePrefix': 'fractions_2014',\n",
    "    'crs': 'EPSG:4326',\n",
    "    'scale': 500,\n",
    "    'maxPixels': 1000000000000,\n",
    "    'fileFormat': 'GeoTIFF',\n",
    "    'skipEmptyTiles': True,\n",
    "    'region': roi,\n",
    "    'folder': 'myfolder'\n",
    "}\n",
    "\n",
    "task = ee.batch.Export.image.toDrive(dict['2014'], str('fractions_2014'), **task_config)\n",
    "task.start()"
   ]
  },
  {
   "cell_type": "code",
   "execution_count": 41,
   "metadata": {},
   "outputs": [],
   "source": [
    "task_config = {\n",
    "    'fileNamePrefix': 'fractions_2015',\n",
    "    'crs': 'EPSG:4326',\n",
    "    'scale': 500,\n",
    "    'maxPixels': 1000000000000,\n",
    "    'fileFormat': 'GeoTIFF',\n",
    "    'skipEmptyTiles': True,\n",
    "    'region': roi,\n",
    "    'folder': 'myfolder'\n",
    "}\n",
    "\n",
    "task = ee.batch.Export.image.toDrive(dict['2015'], str('fractions_2015'), **task_config)\n",
    "task.start()"
   ]
  },
  {
   "cell_type": "code",
   "execution_count": null,
   "metadata": {},
   "outputs": [],
   "source": [
    "def exportL8_toGglDrive(IMAGE, DESCRIPTION):\n",
    "    ee.Export.image.toDrive(image=IMAGE,\n",
    "                             description=DESCRIPTION, \n",
    "                             folder='GEE_Landsat8_Exports')\n",
    "    "
   ]
  },
  {
   "cell_type": "code",
   "execution_count": null,
   "metadata": {},
   "outputs": [],
   "source": [
    "exportL8_toGglDrive(image, 'GEE_export_test1')"
   ]
  },
  {
   "cell_type": "markdown",
   "metadata": {},
   "source": [
    "Export.image.toDrive(image, description,\n",
    "                     folder, fileNamePrefix,\n",
    "                     dimensions, region, scale,\n",
    "                     crs,\n",
    "                     crsTransform, maxPixels,\n",
    "                     shardSize, fileDimensions,\n",
    "                     skipEmptyTiles, fileFormat, formatOptions)"
   ]
  },
  {
   "cell_type": "code",
   "execution_count": null,
   "metadata": {},
   "outputs": [],
   "source": []
  }
 ],
 "metadata": {
  "kernelspec": {
   "display_name": "Python 3",
   "language": "python",
   "name": "python3"
  },
  "language_info": {
   "codemirror_mode": {
    "name": "ipython",
    "version": 3
   },
   "file_extension": ".py",
   "mimetype": "text/x-python",
   "name": "python",
   "nbconvert_exporter": "python",
   "pygments_lexer": "ipython3",
   "version": "3.6.10"
  }
 },
 "nbformat": 4,
 "nbformat_minor": 4
}
