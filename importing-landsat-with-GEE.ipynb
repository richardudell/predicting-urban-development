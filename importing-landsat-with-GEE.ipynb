{
 "cells": [
  {
   "cell_type": "code",
   "execution_count": 1,
   "metadata": {},
   "outputs": [],
   "source": [
    "# Import necessary packages\n",
    "import ee\n",
    "import geemap\n"
   ]
  },
  {
   "cell_type": "code",
   "execution_count": 2,
   "metadata": {},
   "outputs": [
    {
     "name": "stdout",
     "output_type": "stream",
     "text": [
      "layer already on map: TileLayer(attribution='Google', name='Google Maps', options=['attribution', 'detect_retina', 'max_native_zoom', 'max_zoom', 'min_native_zoom', 'min_zoom', 'no_wrap', 'tile_size', 'tms'], url='https://mt1.google.com/vt/lyrs=m&x={x}&y={y}&z={z}')\n",
      "Basemap can only be one of the following:\n",
      "  ROADMAP\n",
      "  SATELLITE\n",
      "  TERRAIN\n",
      "  HYBRID\n",
      "  ESRI\n",
      "  Esri Ocean\n",
      "  Esri Satellite\n",
      "  Esri Standard\n",
      "  Esri Terrain\n",
      "  Esri Transportation\n",
      "  Esri Topo World\n",
      "  Esri National Geographic\n",
      "  Esri Shaded Relief\n",
      "  Esri Physical Map\n",
      "  FWS NWI Wetlands\n",
      "  FWS NWI Wetlands Raster\n",
      "  Google Maps\n",
      "  Google Satellite\n",
      "  Google Terrain\n",
      "  Google Satellite Hybrid\n",
      "  NLCD 2016 CONUS Land Cover\n",
      "  NLCD 2013 CONUS Land Cover\n",
      "  NLCD 2011 CONUS Land Cover\n",
      "  NLCD 2008 CONUS Land Cover\n",
      "  NLCD 2006 CONUS Land Cover\n",
      "  NLCD 2004 CONUS Land Cover\n",
      "  NLCD 2001 CONUS Land Cover\n",
      "  USGS NAIP Imagery\n",
      "  USGS Hydrography\n",
      "  USGS 3DEP Elevation\n",
      "  OpenStreetMap.Mapnik\n",
      "  OpenStreetMap.BlackAndWhite\n",
      "  OpenStreetMap.DE\n",
      "  OpenStreetMap.France\n",
      "  OpenStreetMap.HOT\n",
      "  OpenTopoMap\n",
      "  Hydda.Full\n",
      "  Hydda.Base\n",
      "  Esri.WorldStreetMap\n",
      "  Esri.DeLorme\n",
      "  Esri.WorldTopoMap\n",
      "  Esri.WorldImagery\n",
      "  Esri.NatGeoWorldMap\n",
      "  HikeBike.HikeBike\n",
      "  MtbMap\n",
      "  CartoDB.Positron\n",
      "  CartoDB.DarkMatter\n",
      "  NASAGIBS.ModisTerraTrueColorCR\n",
      "  NASAGIBS.ModisTerraBands367CR\n",
      "  NASAGIBS.ModisTerraBands721CR\n",
      "  NASAGIBS.ModisAquaTrueColorCR\n",
      "  NASAGIBS.ModisAquaBands721CR\n",
      "  NASAGIBS.ViirsTrueColorCR\n",
      "  NASAGIBS.ViirsEarthAtNight2012\n",
      "  Strava.All\n",
      "  Strava.Ride\n",
      "  Strava.Run\n",
      "  Strava.Water\n",
      "  Strava.Winter\n",
      "  Stamen.Terrain\n",
      "  Stamen.Toner\n",
      "  Stamen.Watercolor\n"
     ]
    },
    {
     "data": {
      "application/vnd.jupyter.widget-view+json": {
       "model_id": "f1d89d4b5d7a481a906da2dcf112fce5",
       "version_major": 2,
       "version_minor": 0
      },
      "text/plain": [
       "Map(center=[40, -100], controls=(WidgetControl(options=['position'], widget=HBox(children=(ToggleButton(value=…"
      ]
     },
     "metadata": {},
     "output_type": "display_data"
    }
   ],
   "source": [
    "# Initiate interactive map\n",
    "Map = geemap.Map(center=(40, -100), zoom=4)\n",
    "Map.add_basemap('ROADMAP') # Add Google Map\n",
    "Map"
   ]
  },
  {
   "cell_type": "code",
   "execution_count": 4,
   "metadata": {},
   "outputs": [],
   "source": [
    "# Get raw data input for simple composite\n",
    "l8 = ee.ImageCollection('LANDSAT/LC08/C01/T1')\n",
    "\n",
    "# Filter collection for by date\n",
    "collection = l8.filterDate('2015-1-1', '2018-7-1')\n",
    "\n",
    "# Create cloud-free composite with default params\n",
    "composite = ee.Algorithms.Landsat.simpleComposite(collection)\n",
    "\n",
    "# Create cloud-free composite with custom params\n",
    "# customComposite = ee.Algorithms.Landsat.simpleComposite(\n",
    "#     collection, percentile=75, cloudScoreRange=5)\n",
    "\n",
    "# What's the difference in the syntax here?  What do the asterisks do?\n",
    "customComposite = ee.Algorithms.Landsat.simpleComposite(**{\n",
    "    'collection': collection,\n",
    "    'percentile': 75,\n",
    "    'cloudScoreRange': 5})\n",
    "\n",
    "# Pick a spot with a lot of clouds to test composite\n",
    "Map.setCenter(-47.6735, -0.6344, 12)\n",
    "\n",
    "# Display the two composites as RGB\n",
    "Map.addLayer(\n",
    "    composite, {'bands': ['B4', 'B3', 'B2'], 'max': 128}, 'TOA composite')\n",
    "Map.addLayer(customComposite, {\n",
    "             'bands': ['B4', 'B3', 'B2'], 'max': 128}, 'TOA Custom Composite')\n",
    "\n",
    "\n",
    "# Also display the composite with the GEE docs viz params\n",
    "Map.addLayer(composite, {'bands': ['B4', 'B3', 'B2'], \n",
    "                         'max': [0.3, 0.4, 0.3]}, 'TOA composite, GEE docs')"
   ]
  },
  {
   "cell_type": "code",
   "execution_count": null,
   "metadata": {},
   "outputs": [],
   "source": []
  }
 ],
 "metadata": {
  "kernelspec": {
   "display_name": "Python 3",
   "language": "python",
   "name": "python3"
  },
  "language_info": {
   "codemirror_mode": {
    "name": "ipython",
    "version": 3
   },
   "file_extension": ".py",
   "mimetype": "text/x-python",
   "name": "python",
   "nbconvert_exporter": "python",
   "pygments_lexer": "ipython3",
   "version": "3.7.6"
  }
 },
 "nbformat": 4,
 "nbformat_minor": 4
}
