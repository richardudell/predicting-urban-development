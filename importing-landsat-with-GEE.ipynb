{
 "cells": [
  {
   "cell_type": "code",
   "execution_count": 1,
   "metadata": {},
   "outputs": [],
   "source": [
    "# Import necessary packages\n",
    "import ee\n",
    "import geemap\n"
   ]
  },
  {
   "cell_type": "code",
   "execution_count": 2,
   "metadata": {
    "scrolled": false
   },
   "outputs": [
    {
     "name": "stdout",
     "output_type": "stream",
     "text": [
      "layer already on map: TileLayer(attribution='Google', name='Google Maps', options=['attribution', 'detect_retina', 'max_native_zoom', 'max_zoom', 'min_native_zoom', 'min_zoom', 'no_wrap', 'tile_size', 'tms'], url='https://mt1.google.com/vt/lyrs=m&x={x}&y={y}&z={z}')\n",
      "Basemap can only be one of the following:\n",
      "  ROADMAP\n",
      "  SATELLITE\n",
      "  TERRAIN\n",
      "  HYBRID\n",
      "  ESRI\n",
      "  Esri Ocean\n",
      "  Esri Satellite\n",
      "  Esri Standard\n",
      "  Esri Terrain\n",
      "  Esri Transportation\n",
      "  Esri Topo World\n",
      "  Esri National Geographic\n",
      "  Esri Shaded Relief\n",
      "  Esri Physical Map\n",
      "  FWS NWI Wetlands\n",
      "  FWS NWI Wetlands Raster\n",
      "  Google Maps\n",
      "  Google Satellite\n",
      "  Google Terrain\n",
      "  Google Satellite Hybrid\n",
      "  NLCD 2016 CONUS Land Cover\n",
      "  NLCD 2013 CONUS Land Cover\n",
      "  NLCD 2011 CONUS Land Cover\n",
      "  NLCD 2008 CONUS Land Cover\n",
      "  NLCD 2006 CONUS Land Cover\n",
      "  NLCD 2004 CONUS Land Cover\n",
      "  NLCD 2001 CONUS Land Cover\n",
      "  USGS NAIP Imagery\n",
      "  USGS Hydrography\n",
      "  USGS 3DEP Elevation\n",
      "  OpenStreetMap.Mapnik\n",
      "  OpenStreetMap.BlackAndWhite\n",
      "  OpenStreetMap.DE\n",
      "  OpenStreetMap.France\n",
      "  OpenStreetMap.HOT\n",
      "  OpenTopoMap\n",
      "  Hydda.Full\n",
      "  Hydda.Base\n",
      "  Esri.WorldStreetMap\n",
      "  Esri.DeLorme\n",
      "  Esri.WorldTopoMap\n",
      "  Esri.WorldImagery\n",
      "  Esri.NatGeoWorldMap\n",
      "  HikeBike.HikeBike\n",
      "  MtbMap\n",
      "  CartoDB.Positron\n",
      "  CartoDB.DarkMatter\n",
      "  NASAGIBS.ModisTerraTrueColorCR\n",
      "  NASAGIBS.ModisTerraBands367CR\n",
      "  NASAGIBS.ModisTerraBands721CR\n",
      "  NASAGIBS.ModisAquaTrueColorCR\n",
      "  NASAGIBS.ModisAquaBands721CR\n",
      "  NASAGIBS.ViirsTrueColorCR\n",
      "  NASAGIBS.ViirsEarthAtNight2012\n",
      "  Strava.All\n",
      "  Strava.Ride\n",
      "  Strava.Run\n",
      "  Strava.Water\n",
      "  Strava.Winter\n",
      "  Stamen.Terrain\n",
      "  Stamen.Toner\n",
      "  Stamen.Watercolor\n"
     ]
    },
    {
     "data": {
      "application/vnd.jupyter.widget-view+json": {
       "model_id": "3a787b43dfed4fa0b1bd5445b683ead5",
       "version_major": 2,
       "version_minor": 0
      },
      "text/plain": [
       "Map(center=[40, -100], controls=(WidgetControl(options=['position'], widget=HBox(children=(ToggleButton(value=…"
      ]
     },
     "metadata": {},
     "output_type": "display_data"
    }
   ],
   "source": [
    "# Initiate interactive map\n",
    "Map = geemap.Map(center=(40, -100), zoom=4)\n",
    "Map.add_basemap('ROADMAP') # Add Google Map\n",
    "Map"
   ]
  },
  {
   "cell_type": "code",
   "execution_count": 3,
   "metadata": {},
   "outputs": [],
   "source": [
    "# If you want to define a different ROI with inspector tool\n",
    "# roi = ee.FeatureCollection(Map.draw_features)\n",
    "\n",
    "# Define ROI polygon\n",
    "roi = ee.Geometry.Polygon([[[-105.03081, 39.311584],\n",
    "      [-104.569348, 39.320083],\n",
    "      [-104.497931, 39.517411],\n",
    "      [-104.500678, 39.98619],\n",
    "      [-104.835787, 40.059806],\n",
    "      [-105.187377, 39.939877],\n",
    "      [-105.228579, 39.743753],\n",
    "      [-105.03081, 39.311584]]])"
   ]
  },
  {
   "cell_type": "code",
   "execution_count": null,
   "metadata": {},
   "outputs": [],
   "source": [
    "# Visualizing L7 form data catalog\n",
    "# ee.ImageCollection(\n",
    "#     'LANDSAT/LE07/C01/T1_TOA').filterDate('1999-01-01', '2002-12-31')\n",
    "# trueColor321 = dataset.select(['B3', 'B2', 'B1'])\n",
    "# trueColor321Vis = {\n",
    "#     min: 0.0,\n",
    "#     max: 0.4,\n",
    "#     gamma: 1.2}\n"
   ]
  },
  {
   "cell_type": "markdown",
   "metadata": {},
   "source": [
    "##### Before 2013 we will be using Landsat 5 - not landsat 7.   Therefore these next two cells need to be converted to Landsat 5"
   ]
  },
  {
   "cell_type": "code",
   "execution_count": null,
   "metadata": {},
   "outputs": [],
   "source": [
    "# Can I visualize a single L7 scene?\n",
    "l7 = ee.ImageCollection('LANDSAT/LE07/C01/T1_TOA')\n",
    "d1, d2 = '1999-01-01', '1999-12-31'\n",
    "cloudFree = l7.filterDate(d1, d2).filterBounds(roi).median()\n",
    "\n",
    "clipped_cloudFree = cloudFree.clip(roi)\n",
    "\n",
    "# Add L7 RGB to map\n",
    "visParams = {'bands': ['B3', 'B2', 'B1'],\n",
    "  'min': 0.0,\n",
    "  'max': 0.4,\n",
    "  'gamma': 1.2}\n",
    "\n",
    "Map.addLayer(clipped_cloudFree, visParams, 'L7_clipped')"
   ]
  },
  {
   "cell_type": "code",
   "execution_count": null,
   "metadata": {},
   "outputs": [],
   "source": [
    "# Function to clip cloud-free Landsat 7 to given area for given year(s)\n",
    "def cloudFreeClipped_l7(year, area):\n",
    "    # Get raw Landsat7 data input for simple composite\n",
    "    l7 = ee.ImageCollection('LANDSAT/LE07/C01/T1_TOA')\n",
    "\n",
    "    # Generate date strings for .filterDate()\n",
    "    d1, d2 = str(year)+'-01-01', str(year)+'-12-31'\n",
    "\n",
    "    # Filter Landsat7 collection by date and by ROI then reduce to ee.Image by median\n",
    "    cloudFree = l7.filterDate(d1, d2).filterBounds(area).median()\n",
    "\n",
    "    # Clip to ROI\n",
    "    clipped_cloudFree = cloudFree.clip(area)\n",
    "\n",
    "    # Add L7 RGB to map\n",
    "    visParams = {'bands': ['B3', 'B2', 'B1'],\n",
    "      'min': 0.0,\n",
    "      'max': 0.4,\n",
    "      'gamma': 1.2}\n",
    "\n",
    "    Map.addLayer(clipped_cloudFree, visParams, str(year))"
   ]
  },
  {
   "cell_type": "markdown",
   "metadata": {},
   "source": [
    "## Landsat 8"
   ]
  },
  {
   "cell_type": "code",
   "execution_count": 4,
   "metadata": {},
   "outputs": [],
   "source": [
    "# Function to get NDVI for Landsat 8 ee.Image object\n",
    "def addNDVI(image):\n",
    "    ndvi = image.normalizedDifference(['B5', 'B4']).rename('NDVI')\n",
    "    return image.addBands(ndvi)"
   ]
  },
  {
   "cell_type": "code",
   "execution_count": 5,
   "metadata": {},
   "outputs": [],
   "source": [
    "# Function to clip cloud-free Landsat 8 to given area for given year(s)\n",
    "def cloudFreeClipped_l8(year, area):\n",
    "    # Get raw Landsat8 data input for simple composite\n",
    "    l8 = ee.ImageCollection('LANDSAT/LC08/C01/T1')\n",
    "    \n",
    "    # Generate date strings for .filterDate()\n",
    "    d1, d2 = str(year)+'-07-01', str(year)+'-09-30'\n",
    "\n",
    "    # Filter Landsat8 collection by date and by ROI\n",
    "    collection = l8.filterDate(d1, d2).filterBounds(area)\n",
    "    print('collectionl8', type(collection))\n",
    "    \n",
    "#     # Map over NDVI function\n",
    "#     withNDVI = collection.map(addNDVI)\n",
    "    \n",
    "    \n",
    "    # Create cloud-free composite with default params\n",
    "    composite = ee.Algorithms.Landsat.simpleComposite(collection)\n",
    "    print('compositel8', type(composite))\n",
    "    \n",
    "    ndvi = addNDVI(composite).select('NDVI')\n",
    "    \n",
    "    # Clip to ROI\n",
    "    clippedComposite = ndvi.clip(area)\n",
    "    print('clippedCompositel8', type(clippedComposite))\n",
    "    \n",
    "    ndviParams = {'bands': ['NDVI'], 'min': -1, 'max': 1, 'palette': ['blue', 'white', 'green']}\n",
    "    \n",
    "    # Display the clipped composite as RGB\n",
    "    Map.addLayer(clippedComposite, ndviParams, str(year))\n",
    "    \n",
    "    return clippedComposite"
   ]
  },
  {
   "cell_type": "code",
   "execution_count": 6,
   "metadata": {
    "scrolled": false
   },
   "outputs": [
    {
     "name": "stdout",
     "output_type": "stream",
     "text": [
      "collectionl8 <class 'ee.imagecollection.ImageCollection'>\n",
      "compositel8 <class 'ee.image.Image'>\n",
      "clippedCompositel8 <class 'ee.image.Image'>\n",
      "collectionl8 <class 'ee.imagecollection.ImageCollection'>\n",
      "compositel8 <class 'ee.image.Image'>\n",
      "clippedCompositel8 <class 'ee.image.Image'>\n",
      "collectionl8 <class 'ee.imagecollection.ImageCollection'>\n",
      "compositel8 <class 'ee.image.Image'>\n",
      "clippedCompositel8 <class 'ee.image.Image'>\n"
     ]
    }
   ],
   "source": [
    "# Add Landsat8 to map \n",
    "for i in range(2013, 2016):\n",
    "    cloudFreeClipped_l8(i, roi)\n",
    "    \n"
   ]
  },
  {
   "cell_type": "code",
   "execution_count": 7,
   "metadata": {},
   "outputs": [
    {
     "data": {
      "application/vnd.jupyter.widget-view+json": {
       "model_id": "3a787b43dfed4fa0b1bd5445b683ead5",
       "version_major": 2,
       "version_minor": 0
      },
      "text/plain": [
       "Map(center=[40, -100], controls=(WidgetControl(options=['position'], widget=HBox(children=(ToggleButton(value=…"
      ]
     },
     "metadata": {},
     "output_type": "display_data"
    }
   ],
   "source": [
    "Map"
   ]
  },
  {
   "cell_type": "code",
   "execution_count": null,
   "metadata": {},
   "outputs": [],
   "source": [
    "# Add Landsat5 to Map\n",
    "for i in range (1999, 2014):\n",
    "    cloudFreeClipped_l7(i, roi)"
   ]
  },
  {
   "cell_type": "code",
   "execution_count": null,
   "metadata": {},
   "outputs": [],
   "source": [
    "def addNDVI(image): \n",
    "    ndvi = image.normalizedDifference(['B5', 'B4']).rename('NDVI')\n",
    "    return image.addBands(ndvi)\n"
   ]
  },
  {
   "cell_type": "code",
   "execution_count": null,
   "metadata": {},
   "outputs": [],
   "source": [
    "# Greenest Pixel Composite\n",
    "def greenestPixel_l8(year, area):\n",
    "    # Get raw Landsat8 data input for simple composite\n",
    "    l8 = ee.ImageCollection('LANDSAT/LC08/C01/T1')\n",
    "    \n",
    "    # Generate date strings for .filterDate()\n",
    "    d1, d2 = str(year)+'-07-01', str(year)+'-09-30'\n",
    "\n",
    "    # Filter Landsat8 collection by date and by ROI\n",
    "    collection = l8.filterDate(d1, d2).filterBounds(area)\n",
    "    print('collectionl8', type(collection))\n",
    "    \n",
    "#     # Map over NDVI function\n",
    "#     withNDVI = collection.map(addNDVI)\n",
    "    \n",
    "    \n",
    "    # Create cloud-free composite with default params\n",
    "    composite = ee.Algorithms.Landsat.simpleComposite(collection)\n",
    "    print('compositel8', type(composite))\n",
    "    \n",
    "    ndvi = addNDVI(composite).select('NDVI')\n",
    "    \n",
    "    # Clip to ROI\n",
    "    clippedComposite = ndvi.clip(area)\n",
    "    print('clippedCompositel8', type(clippedComposite))\n",
    "    \n",
    "    ndviParams = {'bands': ['NDVI'], 'min': -1, 'max': 1, 'palette': ['blue', 'white', 'green']}\n",
    "    \n",
    "    # Display the clipped composite as RGB\n",
    "    Map.addLayer(clippedComposite, ndviParams, str(year))\n",
    "    \n",
    "    return clippedComposite\n",
    "\n"
   ]
  },
  {
   "cell_type": "markdown",
   "metadata": {},
   "source": [
    "##### spectral unmixing"
   ]
  },
  {
   "cell_type": "code",
   "execution_count": null,
   "metadata": {},
   "outputs": [],
   "source": [
    "l8_2016 = cloudFreeClipped_l8(2016, roi)"
   ]
  },
  {
   "cell_type": "code",
   "execution_count": null,
   "metadata": {},
   "outputs": [],
   "source": [
    "# Let's calculate spectral unmixing for a single landsat8 ee.Image object\n",
    "# Load a Landsat 5 image and select the bands we want to unmix.\n",
    "bands = ['B1', 'B2', 'B3', 'B4', 'B5', 'B6', 'B7'];\n",
    "image = l8_2016.select(bands)\n",
    "Map.setCenter(-104.9903, 39.7392, 10) # Denver, CO\n",
    "Map.addLayer(image, {'bands': ['B5', 'B4', 'B3'], 'min': 0, 'max': 128}, 'Denver NIR image')\n",
    "\n",
    "# Define spectral endmembers.\n",
    "urban = [88, 42, 48, 38, 86, 115, 59]\n",
    "veg = [50, 21, 20, 35, 50, 110, 23]\n",
    "water = [51, 20, 14, 9, 7, 116, 4]\n",
    "\n",
    "# Unmix the image.\n",
    "fractions = image.unmix([urban, veg, water])\n",
    "Map.addLayer(fractions, {}, 'Denver unmixed')\n",
    "    "
   ]
  },
  {
   "cell_type": "code",
   "execution_count": null,
   "metadata": {},
   "outputs": [],
   "source": [
    "# Add 30m DEM to map\n",
    "dataset = ee.Image('USGS/SRTMGL1_003')\n",
    "elevation = dataset.select('elevation').clip(roi)\n",
    "slope = ee.Terrain.slope(elevation)\n",
    "Map.setCenter(-104.9903, 39.7392, 10)\n",
    "Map.addLayer(slope, {min: 0, max: 60}, 'slope')"
   ]
  },
  {
   "cell_type": "code",
   "execution_count": null,
   "metadata": {
    "scrolled": false
   },
   "outputs": [],
   "source": [
    "Map"
   ]
  },
  {
   "cell_type": "code",
   "execution_count": null,
   "metadata": {},
   "outputs": [],
   "source": []
  }
 ],
 "metadata": {
  "kernelspec": {
   "display_name": "Python 3",
   "language": "python",
   "name": "python3"
  },
  "language_info": {
   "codemirror_mode": {
    "name": "ipython",
    "version": 3
   },
   "file_extension": ".py",
   "mimetype": "text/x-python",
   "name": "python",
   "nbconvert_exporter": "python",
   "pygments_lexer": "ipython3",
   "version": "3.7.6"
  }
 },
 "nbformat": 4,
 "nbformat_minor": 4
}
